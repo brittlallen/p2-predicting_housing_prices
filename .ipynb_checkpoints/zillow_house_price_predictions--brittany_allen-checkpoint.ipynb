{
 "cells": [
  {
   "cell_type": "markdown",
   "metadata": {},
   "source": [
    "<center> \n",
    "    <h1> PACKAGE / DATA IMPORTS</h1> \n",
    "</center>"
   ]
  },
  {
   "cell_type": "code",
   "execution_count": 1,
   "metadata": {},
   "outputs": [],
   "source": [
    "import pandas as pd\n",
    "import numpy as np\n",
    "from sklearn.model_selection import cross_val_score, train_test_split\n",
    "from sklearn.linear_model import LinearRegression, LassoCV, RidgeCV\n",
    "from sklearn.preprocessing import StandardScaler, PolynomialFeatures\n",
    "import statsmodels.api as sm # with this i can do a quick linear regression\n",
    "import seaborn as sns\n",
    "import matplotlib.pyplot as plt\n",
    "import matplotlib.lines as mlines\n",
    "import matplotlib.transforms as mtransforms\n",
    "\n",
    "import random\n",
    "import warnings\n",
    "warnings.simplefilter(action='ignore')\n",
    "\n",
    "%matplotlib inline\n",
    "\n",
    "#importing all packages i plan to use"
   ]
  },
  {
   "cell_type": "code",
   "execution_count": 2,
   "metadata": {},
   "outputs": [],
   "source": [
    "df = pd.read_csv('./data/train.csv')\n",
    "df_2 = pd.read_csv('./data/test.csv')\n",
    "\n",
    "#reading in my training and test data "
   ]
  },
  {
   "cell_type": "markdown",
   "metadata": {},
   "source": [
    "<center> \n",
    "    <h1> DATA CLEANING </h1> \n",
    "</center>"
   ]
  },
  {
   "cell_type": "code",
   "execution_count": 3,
   "metadata": {},
   "outputs": [
    {
     "data": {
      "text/html": [
       "<div>\n",
       "<style scoped>\n",
       "    .dataframe tbody tr th:only-of-type {\n",
       "        vertical-align: middle;\n",
       "    }\n",
       "\n",
       "    .dataframe tbody tr th {\n",
       "        vertical-align: top;\n",
       "    }\n",
       "\n",
       "    .dataframe thead th {\n",
       "        text-align: right;\n",
       "    }\n",
       "</style>\n",
       "<table border=\"1\" class=\"dataframe\">\n",
       "  <thead>\n",
       "    <tr style=\"text-align: right;\">\n",
       "      <th></th>\n",
       "      <th>Id</th>\n",
       "      <th>PID</th>\n",
       "      <th>MS SubClass</th>\n",
       "      <th>MS Zoning</th>\n",
       "      <th>Lot Frontage</th>\n",
       "      <th>Lot Area</th>\n",
       "      <th>Street</th>\n",
       "      <th>Alley</th>\n",
       "      <th>Lot Shape</th>\n",
       "      <th>Land Contour</th>\n",
       "      <th>...</th>\n",
       "      <th>Screen Porch</th>\n",
       "      <th>Pool Area</th>\n",
       "      <th>Pool QC</th>\n",
       "      <th>Fence</th>\n",
       "      <th>Misc Feature</th>\n",
       "      <th>Misc Val</th>\n",
       "      <th>Mo Sold</th>\n",
       "      <th>Yr Sold</th>\n",
       "      <th>Sale Type</th>\n",
       "      <th>SalePrice</th>\n",
       "    </tr>\n",
       "  </thead>\n",
       "  <tbody>\n",
       "    <tr>\n",
       "      <th>0</th>\n",
       "      <td>109</td>\n",
       "      <td>533352170</td>\n",
       "      <td>60</td>\n",
       "      <td>RL</td>\n",
       "      <td>NaN</td>\n",
       "      <td>13517</td>\n",
       "      <td>Pave</td>\n",
       "      <td>NaN</td>\n",
       "      <td>IR1</td>\n",
       "      <td>Lvl</td>\n",
       "      <td>...</td>\n",
       "      <td>0</td>\n",
       "      <td>0</td>\n",
       "      <td>NaN</td>\n",
       "      <td>NaN</td>\n",
       "      <td>NaN</td>\n",
       "      <td>0</td>\n",
       "      <td>3</td>\n",
       "      <td>2010</td>\n",
       "      <td>WD</td>\n",
       "      <td>130500</td>\n",
       "    </tr>\n",
       "    <tr>\n",
       "      <th>1</th>\n",
       "      <td>544</td>\n",
       "      <td>531379050</td>\n",
       "      <td>60</td>\n",
       "      <td>RL</td>\n",
       "      <td>43.0</td>\n",
       "      <td>11492</td>\n",
       "      <td>Pave</td>\n",
       "      <td>NaN</td>\n",
       "      <td>IR1</td>\n",
       "      <td>Lvl</td>\n",
       "      <td>...</td>\n",
       "      <td>0</td>\n",
       "      <td>0</td>\n",
       "      <td>NaN</td>\n",
       "      <td>NaN</td>\n",
       "      <td>NaN</td>\n",
       "      <td>0</td>\n",
       "      <td>4</td>\n",
       "      <td>2009</td>\n",
       "      <td>WD</td>\n",
       "      <td>220000</td>\n",
       "    </tr>\n",
       "    <tr>\n",
       "      <th>2</th>\n",
       "      <td>153</td>\n",
       "      <td>535304180</td>\n",
       "      <td>20</td>\n",
       "      <td>RL</td>\n",
       "      <td>68.0</td>\n",
       "      <td>7922</td>\n",
       "      <td>Pave</td>\n",
       "      <td>NaN</td>\n",
       "      <td>Reg</td>\n",
       "      <td>Lvl</td>\n",
       "      <td>...</td>\n",
       "      <td>0</td>\n",
       "      <td>0</td>\n",
       "      <td>NaN</td>\n",
       "      <td>NaN</td>\n",
       "      <td>NaN</td>\n",
       "      <td>0</td>\n",
       "      <td>1</td>\n",
       "      <td>2010</td>\n",
       "      <td>WD</td>\n",
       "      <td>109000</td>\n",
       "    </tr>\n",
       "    <tr>\n",
       "      <th>3</th>\n",
       "      <td>318</td>\n",
       "      <td>916386060</td>\n",
       "      <td>60</td>\n",
       "      <td>RL</td>\n",
       "      <td>73.0</td>\n",
       "      <td>9802</td>\n",
       "      <td>Pave</td>\n",
       "      <td>NaN</td>\n",
       "      <td>Reg</td>\n",
       "      <td>Lvl</td>\n",
       "      <td>...</td>\n",
       "      <td>0</td>\n",
       "      <td>0</td>\n",
       "      <td>NaN</td>\n",
       "      <td>NaN</td>\n",
       "      <td>NaN</td>\n",
       "      <td>0</td>\n",
       "      <td>4</td>\n",
       "      <td>2010</td>\n",
       "      <td>WD</td>\n",
       "      <td>174000</td>\n",
       "    </tr>\n",
       "    <tr>\n",
       "      <th>4</th>\n",
       "      <td>255</td>\n",
       "      <td>906425045</td>\n",
       "      <td>50</td>\n",
       "      <td>RL</td>\n",
       "      <td>82.0</td>\n",
       "      <td>14235</td>\n",
       "      <td>Pave</td>\n",
       "      <td>NaN</td>\n",
       "      <td>IR1</td>\n",
       "      <td>Lvl</td>\n",
       "      <td>...</td>\n",
       "      <td>0</td>\n",
       "      <td>0</td>\n",
       "      <td>NaN</td>\n",
       "      <td>NaN</td>\n",
       "      <td>NaN</td>\n",
       "      <td>0</td>\n",
       "      <td>3</td>\n",
       "      <td>2010</td>\n",
       "      <td>WD</td>\n",
       "      <td>138500</td>\n",
       "    </tr>\n",
       "  </tbody>\n",
       "</table>\n",
       "<p>5 rows × 81 columns</p>\n",
       "</div>"
      ],
      "text/plain": [
       "    Id        PID  MS SubClass MS Zoning  Lot Frontage  Lot Area Street Alley  \\\n",
       "0  109  533352170           60        RL           NaN     13517   Pave   NaN   \n",
       "1  544  531379050           60        RL          43.0     11492   Pave   NaN   \n",
       "2  153  535304180           20        RL          68.0      7922   Pave   NaN   \n",
       "3  318  916386060           60        RL          73.0      9802   Pave   NaN   \n",
       "4  255  906425045           50        RL          82.0     14235   Pave   NaN   \n",
       "\n",
       "  Lot Shape Land Contour    ...     Screen Porch Pool Area Pool QC Fence  \\\n",
       "0       IR1          Lvl    ...                0         0     NaN   NaN   \n",
       "1       IR1          Lvl    ...                0         0     NaN   NaN   \n",
       "2       Reg          Lvl    ...                0         0     NaN   NaN   \n",
       "3       Reg          Lvl    ...                0         0     NaN   NaN   \n",
       "4       IR1          Lvl    ...                0         0     NaN   NaN   \n",
       "\n",
       "  Misc Feature Misc Val Mo Sold Yr Sold  Sale Type  SalePrice  \n",
       "0          NaN        0       3    2010        WD      130500  \n",
       "1          NaN        0       4    2009        WD      220000  \n",
       "2          NaN        0       1    2010        WD      109000  \n",
       "3          NaN        0       4    2010        WD      174000  \n",
       "4          NaN        0       3    2010        WD      138500  \n",
       "\n",
       "[5 rows x 81 columns]"
      ]
     },
     "execution_count": 3,
     "metadata": {},
     "output_type": "execute_result"
    }
   ],
   "source": [
    "df.head()\n",
    "\n",
    "#displaying the first 5 rows of my training data"
   ]
  },
  {
   "cell_type": "code",
   "execution_count": 4,
   "metadata": {},
   "outputs": [
    {
     "data": {
      "text/html": [
       "<div>\n",
       "<style scoped>\n",
       "    .dataframe tbody tr th:only-of-type {\n",
       "        vertical-align: middle;\n",
       "    }\n",
       "\n",
       "    .dataframe tbody tr th {\n",
       "        vertical-align: top;\n",
       "    }\n",
       "\n",
       "    .dataframe thead th {\n",
       "        text-align: right;\n",
       "    }\n",
       "</style>\n",
       "<table border=\"1\" class=\"dataframe\">\n",
       "  <thead>\n",
       "    <tr style=\"text-align: right;\">\n",
       "      <th></th>\n",
       "      <th>Id</th>\n",
       "      <th>PID</th>\n",
       "      <th>MS SubClass</th>\n",
       "      <th>MS Zoning</th>\n",
       "      <th>Lot Frontage</th>\n",
       "      <th>Lot Area</th>\n",
       "      <th>Street</th>\n",
       "      <th>Alley</th>\n",
       "      <th>Lot Shape</th>\n",
       "      <th>Land Contour</th>\n",
       "      <th>...</th>\n",
       "      <th>Screen Porch</th>\n",
       "      <th>Pool Area</th>\n",
       "      <th>Pool QC</th>\n",
       "      <th>Fence</th>\n",
       "      <th>Misc Feature</th>\n",
       "      <th>Misc Val</th>\n",
       "      <th>Mo Sold</th>\n",
       "      <th>Yr Sold</th>\n",
       "      <th>Sale Type</th>\n",
       "      <th>SalePrice</th>\n",
       "    </tr>\n",
       "  </thead>\n",
       "  <tbody>\n",
       "    <tr>\n",
       "      <th>2046</th>\n",
       "      <td>1587</td>\n",
       "      <td>921126030</td>\n",
       "      <td>20</td>\n",
       "      <td>RL</td>\n",
       "      <td>79.0</td>\n",
       "      <td>11449</td>\n",
       "      <td>Pave</td>\n",
       "      <td>NaN</td>\n",
       "      <td>IR1</td>\n",
       "      <td>HLS</td>\n",
       "      <td>...</td>\n",
       "      <td>0</td>\n",
       "      <td>0</td>\n",
       "      <td>NaN</td>\n",
       "      <td>NaN</td>\n",
       "      <td>NaN</td>\n",
       "      <td>0</td>\n",
       "      <td>1</td>\n",
       "      <td>2008</td>\n",
       "      <td>WD</td>\n",
       "      <td>298751</td>\n",
       "    </tr>\n",
       "    <tr>\n",
       "      <th>2047</th>\n",
       "      <td>785</td>\n",
       "      <td>905377130</td>\n",
       "      <td>30</td>\n",
       "      <td>RL</td>\n",
       "      <td>NaN</td>\n",
       "      <td>12342</td>\n",
       "      <td>Pave</td>\n",
       "      <td>NaN</td>\n",
       "      <td>IR1</td>\n",
       "      <td>Lvl</td>\n",
       "      <td>...</td>\n",
       "      <td>0</td>\n",
       "      <td>0</td>\n",
       "      <td>NaN</td>\n",
       "      <td>NaN</td>\n",
       "      <td>NaN</td>\n",
       "      <td>0</td>\n",
       "      <td>3</td>\n",
       "      <td>2009</td>\n",
       "      <td>WD</td>\n",
       "      <td>82500</td>\n",
       "    </tr>\n",
       "    <tr>\n",
       "      <th>2048</th>\n",
       "      <td>916</td>\n",
       "      <td>909253010</td>\n",
       "      <td>50</td>\n",
       "      <td>RL</td>\n",
       "      <td>57.0</td>\n",
       "      <td>7558</td>\n",
       "      <td>Pave</td>\n",
       "      <td>NaN</td>\n",
       "      <td>Reg</td>\n",
       "      <td>Bnk</td>\n",
       "      <td>...</td>\n",
       "      <td>0</td>\n",
       "      <td>0</td>\n",
       "      <td>NaN</td>\n",
       "      <td>NaN</td>\n",
       "      <td>NaN</td>\n",
       "      <td>0</td>\n",
       "      <td>3</td>\n",
       "      <td>2009</td>\n",
       "      <td>WD</td>\n",
       "      <td>177000</td>\n",
       "    </tr>\n",
       "    <tr>\n",
       "      <th>2049</th>\n",
       "      <td>639</td>\n",
       "      <td>535179160</td>\n",
       "      <td>20</td>\n",
       "      <td>RL</td>\n",
       "      <td>80.0</td>\n",
       "      <td>10400</td>\n",
       "      <td>Pave</td>\n",
       "      <td>NaN</td>\n",
       "      <td>Reg</td>\n",
       "      <td>Lvl</td>\n",
       "      <td>...</td>\n",
       "      <td>0</td>\n",
       "      <td>0</td>\n",
       "      <td>NaN</td>\n",
       "      <td>NaN</td>\n",
       "      <td>NaN</td>\n",
       "      <td>0</td>\n",
       "      <td>11</td>\n",
       "      <td>2009</td>\n",
       "      <td>WD</td>\n",
       "      <td>144000</td>\n",
       "    </tr>\n",
       "    <tr>\n",
       "      <th>2050</th>\n",
       "      <td>10</td>\n",
       "      <td>527162130</td>\n",
       "      <td>60</td>\n",
       "      <td>RL</td>\n",
       "      <td>60.0</td>\n",
       "      <td>7500</td>\n",
       "      <td>Pave</td>\n",
       "      <td>NaN</td>\n",
       "      <td>Reg</td>\n",
       "      <td>Lvl</td>\n",
       "      <td>...</td>\n",
       "      <td>0</td>\n",
       "      <td>0</td>\n",
       "      <td>NaN</td>\n",
       "      <td>NaN</td>\n",
       "      <td>NaN</td>\n",
       "      <td>0</td>\n",
       "      <td>6</td>\n",
       "      <td>2010</td>\n",
       "      <td>WD</td>\n",
       "      <td>189000</td>\n",
       "    </tr>\n",
       "  </tbody>\n",
       "</table>\n",
       "<p>5 rows × 81 columns</p>\n",
       "</div>"
      ],
      "text/plain": [
       "        Id        PID  MS SubClass MS Zoning  Lot Frontage  Lot Area Street  \\\n",
       "2046  1587  921126030           20        RL          79.0     11449   Pave   \n",
       "2047   785  905377130           30        RL           NaN     12342   Pave   \n",
       "2048   916  909253010           50        RL          57.0      7558   Pave   \n",
       "2049   639  535179160           20        RL          80.0     10400   Pave   \n",
       "2050    10  527162130           60        RL          60.0      7500   Pave   \n",
       "\n",
       "     Alley Lot Shape Land Contour    ...     Screen Porch Pool Area Pool QC  \\\n",
       "2046   NaN       IR1          HLS    ...                0         0     NaN   \n",
       "2047   NaN       IR1          Lvl    ...                0         0     NaN   \n",
       "2048   NaN       Reg          Bnk    ...                0         0     NaN   \n",
       "2049   NaN       Reg          Lvl    ...                0         0     NaN   \n",
       "2050   NaN       Reg          Lvl    ...                0         0     NaN   \n",
       "\n",
       "     Fence Misc Feature Misc Val Mo Sold Yr Sold  Sale Type  SalePrice  \n",
       "2046   NaN          NaN        0       1    2008        WD      298751  \n",
       "2047   NaN          NaN        0       3    2009        WD       82500  \n",
       "2048   NaN          NaN        0       3    2009        WD      177000  \n",
       "2049   NaN          NaN        0      11    2009        WD      144000  \n",
       "2050   NaN          NaN        0       6    2010        WD      189000  \n",
       "\n",
       "[5 rows x 81 columns]"
      ]
     },
     "execution_count": 4,
     "metadata": {},
     "output_type": "execute_result"
    }
   ],
   "source": [
    "df.tail()\n",
    "\n",
    "#displaying the last  5 rows of my training data"
   ]
  },
  {
   "cell_type": "code",
   "execution_count": 5,
   "metadata": {},
   "outputs": [
    {
     "data": {
      "text/plain": [
       "(2051, 81)"
      ]
     },
     "execution_count": 5,
     "metadata": {},
     "output_type": "execute_result"
    }
   ],
   "source": [
    "df.shape\n",
    "\n",
    "#displaying the shape of my training data"
   ]
  },
  {
   "cell_type": "code",
   "execution_count": 6,
   "metadata": {},
   "outputs": [
    {
     "data": {
      "text/html": [
       "<div>\n",
       "<style scoped>\n",
       "    .dataframe tbody tr th:only-of-type {\n",
       "        vertical-align: middle;\n",
       "    }\n",
       "\n",
       "    .dataframe tbody tr th {\n",
       "        vertical-align: top;\n",
       "    }\n",
       "\n",
       "    .dataframe thead th {\n",
       "        text-align: right;\n",
       "    }\n",
       "</style>\n",
       "<table border=\"1\" class=\"dataframe\">\n",
       "  <thead>\n",
       "    <tr style=\"text-align: right;\">\n",
       "      <th></th>\n",
       "      <th>Id</th>\n",
       "      <th>PID</th>\n",
       "      <th>MS SubClass</th>\n",
       "      <th>Lot Frontage</th>\n",
       "      <th>Lot Area</th>\n",
       "      <th>Overall Qual</th>\n",
       "      <th>Overall Cond</th>\n",
       "      <th>Year Built</th>\n",
       "      <th>Year Remod/Add</th>\n",
       "      <th>Mas Vnr Area</th>\n",
       "      <th>...</th>\n",
       "      <th>Wood Deck SF</th>\n",
       "      <th>Open Porch SF</th>\n",
       "      <th>Enclosed Porch</th>\n",
       "      <th>3Ssn Porch</th>\n",
       "      <th>Screen Porch</th>\n",
       "      <th>Pool Area</th>\n",
       "      <th>Misc Val</th>\n",
       "      <th>Mo Sold</th>\n",
       "      <th>Yr Sold</th>\n",
       "      <th>SalePrice</th>\n",
       "    </tr>\n",
       "  </thead>\n",
       "  <tbody>\n",
       "    <tr>\n",
       "      <th>count</th>\n",
       "      <td>2051.000000</td>\n",
       "      <td>2.051000e+03</td>\n",
       "      <td>2051.000000</td>\n",
       "      <td>1721.000000</td>\n",
       "      <td>2051.000000</td>\n",
       "      <td>2051.000000</td>\n",
       "      <td>2051.000000</td>\n",
       "      <td>2051.000000</td>\n",
       "      <td>2051.000000</td>\n",
       "      <td>2029.000000</td>\n",
       "      <td>...</td>\n",
       "      <td>2051.000000</td>\n",
       "      <td>2051.000000</td>\n",
       "      <td>2051.000000</td>\n",
       "      <td>2051.000000</td>\n",
       "      <td>2051.000000</td>\n",
       "      <td>2051.000000</td>\n",
       "      <td>2051.000000</td>\n",
       "      <td>2051.000000</td>\n",
       "      <td>2051.000000</td>\n",
       "      <td>2051.000000</td>\n",
       "    </tr>\n",
       "    <tr>\n",
       "      <th>mean</th>\n",
       "      <td>1474.033642</td>\n",
       "      <td>7.135900e+08</td>\n",
       "      <td>57.008776</td>\n",
       "      <td>69.055200</td>\n",
       "      <td>10065.208191</td>\n",
       "      <td>6.112140</td>\n",
       "      <td>5.562165</td>\n",
       "      <td>1971.708922</td>\n",
       "      <td>1984.190151</td>\n",
       "      <td>99.695909</td>\n",
       "      <td>...</td>\n",
       "      <td>93.833740</td>\n",
       "      <td>47.556802</td>\n",
       "      <td>22.571916</td>\n",
       "      <td>2.591419</td>\n",
       "      <td>16.511458</td>\n",
       "      <td>2.397855</td>\n",
       "      <td>51.574354</td>\n",
       "      <td>6.219893</td>\n",
       "      <td>2007.775719</td>\n",
       "      <td>181469.701609</td>\n",
       "    </tr>\n",
       "    <tr>\n",
       "      <th>std</th>\n",
       "      <td>843.980841</td>\n",
       "      <td>1.886918e+08</td>\n",
       "      <td>42.824223</td>\n",
       "      <td>23.260653</td>\n",
       "      <td>6742.488909</td>\n",
       "      <td>1.426271</td>\n",
       "      <td>1.104497</td>\n",
       "      <td>30.177889</td>\n",
       "      <td>21.036250</td>\n",
       "      <td>174.963129</td>\n",
       "      <td>...</td>\n",
       "      <td>128.549416</td>\n",
       "      <td>66.747241</td>\n",
       "      <td>59.845110</td>\n",
       "      <td>25.229615</td>\n",
       "      <td>57.374204</td>\n",
       "      <td>37.782570</td>\n",
       "      <td>573.393985</td>\n",
       "      <td>2.744736</td>\n",
       "      <td>1.312014</td>\n",
       "      <td>79258.659352</td>\n",
       "    </tr>\n",
       "    <tr>\n",
       "      <th>min</th>\n",
       "      <td>1.000000</td>\n",
       "      <td>5.263011e+08</td>\n",
       "      <td>20.000000</td>\n",
       "      <td>21.000000</td>\n",
       "      <td>1300.000000</td>\n",
       "      <td>1.000000</td>\n",
       "      <td>1.000000</td>\n",
       "      <td>1872.000000</td>\n",
       "      <td>1950.000000</td>\n",
       "      <td>0.000000</td>\n",
       "      <td>...</td>\n",
       "      <td>0.000000</td>\n",
       "      <td>0.000000</td>\n",
       "      <td>0.000000</td>\n",
       "      <td>0.000000</td>\n",
       "      <td>0.000000</td>\n",
       "      <td>0.000000</td>\n",
       "      <td>0.000000</td>\n",
       "      <td>1.000000</td>\n",
       "      <td>2006.000000</td>\n",
       "      <td>12789.000000</td>\n",
       "    </tr>\n",
       "    <tr>\n",
       "      <th>25%</th>\n",
       "      <td>753.500000</td>\n",
       "      <td>5.284581e+08</td>\n",
       "      <td>20.000000</td>\n",
       "      <td>58.000000</td>\n",
       "      <td>7500.000000</td>\n",
       "      <td>5.000000</td>\n",
       "      <td>5.000000</td>\n",
       "      <td>1953.500000</td>\n",
       "      <td>1964.500000</td>\n",
       "      <td>0.000000</td>\n",
       "      <td>...</td>\n",
       "      <td>0.000000</td>\n",
       "      <td>0.000000</td>\n",
       "      <td>0.000000</td>\n",
       "      <td>0.000000</td>\n",
       "      <td>0.000000</td>\n",
       "      <td>0.000000</td>\n",
       "      <td>0.000000</td>\n",
       "      <td>4.000000</td>\n",
       "      <td>2007.000000</td>\n",
       "      <td>129825.000000</td>\n",
       "    </tr>\n",
       "    <tr>\n",
       "      <th>50%</th>\n",
       "      <td>1486.000000</td>\n",
       "      <td>5.354532e+08</td>\n",
       "      <td>50.000000</td>\n",
       "      <td>68.000000</td>\n",
       "      <td>9430.000000</td>\n",
       "      <td>6.000000</td>\n",
       "      <td>5.000000</td>\n",
       "      <td>1974.000000</td>\n",
       "      <td>1993.000000</td>\n",
       "      <td>0.000000</td>\n",
       "      <td>...</td>\n",
       "      <td>0.000000</td>\n",
       "      <td>27.000000</td>\n",
       "      <td>0.000000</td>\n",
       "      <td>0.000000</td>\n",
       "      <td>0.000000</td>\n",
       "      <td>0.000000</td>\n",
       "      <td>0.000000</td>\n",
       "      <td>6.000000</td>\n",
       "      <td>2008.000000</td>\n",
       "      <td>162500.000000</td>\n",
       "    </tr>\n",
       "    <tr>\n",
       "      <th>75%</th>\n",
       "      <td>2198.000000</td>\n",
       "      <td>9.071801e+08</td>\n",
       "      <td>70.000000</td>\n",
       "      <td>80.000000</td>\n",
       "      <td>11513.500000</td>\n",
       "      <td>7.000000</td>\n",
       "      <td>6.000000</td>\n",
       "      <td>2001.000000</td>\n",
       "      <td>2004.000000</td>\n",
       "      <td>161.000000</td>\n",
       "      <td>...</td>\n",
       "      <td>168.000000</td>\n",
       "      <td>70.000000</td>\n",
       "      <td>0.000000</td>\n",
       "      <td>0.000000</td>\n",
       "      <td>0.000000</td>\n",
       "      <td>0.000000</td>\n",
       "      <td>0.000000</td>\n",
       "      <td>8.000000</td>\n",
       "      <td>2009.000000</td>\n",
       "      <td>214000.000000</td>\n",
       "    </tr>\n",
       "    <tr>\n",
       "      <th>max</th>\n",
       "      <td>2930.000000</td>\n",
       "      <td>9.241520e+08</td>\n",
       "      <td>190.000000</td>\n",
       "      <td>313.000000</td>\n",
       "      <td>159000.000000</td>\n",
       "      <td>10.000000</td>\n",
       "      <td>9.000000</td>\n",
       "      <td>2010.000000</td>\n",
       "      <td>2010.000000</td>\n",
       "      <td>1600.000000</td>\n",
       "      <td>...</td>\n",
       "      <td>1424.000000</td>\n",
       "      <td>547.000000</td>\n",
       "      <td>432.000000</td>\n",
       "      <td>508.000000</td>\n",
       "      <td>490.000000</td>\n",
       "      <td>800.000000</td>\n",
       "      <td>17000.000000</td>\n",
       "      <td>12.000000</td>\n",
       "      <td>2010.000000</td>\n",
       "      <td>611657.000000</td>\n",
       "    </tr>\n",
       "  </tbody>\n",
       "</table>\n",
       "<p>8 rows × 39 columns</p>\n",
       "</div>"
      ],
      "text/plain": [
       "                Id           PID  MS SubClass  Lot Frontage       Lot Area  \\\n",
       "count  2051.000000  2.051000e+03  2051.000000   1721.000000    2051.000000   \n",
       "mean   1474.033642  7.135900e+08    57.008776     69.055200   10065.208191   \n",
       "std     843.980841  1.886918e+08    42.824223     23.260653    6742.488909   \n",
       "min       1.000000  5.263011e+08    20.000000     21.000000    1300.000000   \n",
       "25%     753.500000  5.284581e+08    20.000000     58.000000    7500.000000   \n",
       "50%    1486.000000  5.354532e+08    50.000000     68.000000    9430.000000   \n",
       "75%    2198.000000  9.071801e+08    70.000000     80.000000   11513.500000   \n",
       "max    2930.000000  9.241520e+08   190.000000    313.000000  159000.000000   \n",
       "\n",
       "       Overall Qual  Overall Cond   Year Built  Year Remod/Add  Mas Vnr Area  \\\n",
       "count   2051.000000   2051.000000  2051.000000     2051.000000   2029.000000   \n",
       "mean       6.112140      5.562165  1971.708922     1984.190151     99.695909   \n",
       "std        1.426271      1.104497    30.177889       21.036250    174.963129   \n",
       "min        1.000000      1.000000  1872.000000     1950.000000      0.000000   \n",
       "25%        5.000000      5.000000  1953.500000     1964.500000      0.000000   \n",
       "50%        6.000000      5.000000  1974.000000     1993.000000      0.000000   \n",
       "75%        7.000000      6.000000  2001.000000     2004.000000    161.000000   \n",
       "max       10.000000      9.000000  2010.000000     2010.000000   1600.000000   \n",
       "\n",
       "           ...        Wood Deck SF  Open Porch SF  Enclosed Porch  \\\n",
       "count      ...         2051.000000    2051.000000     2051.000000   \n",
       "mean       ...           93.833740      47.556802       22.571916   \n",
       "std        ...          128.549416      66.747241       59.845110   \n",
       "min        ...            0.000000       0.000000        0.000000   \n",
       "25%        ...            0.000000       0.000000        0.000000   \n",
       "50%        ...            0.000000      27.000000        0.000000   \n",
       "75%        ...          168.000000      70.000000        0.000000   \n",
       "max        ...         1424.000000     547.000000      432.000000   \n",
       "\n",
       "        3Ssn Porch  Screen Porch    Pool Area      Misc Val      Mo Sold  \\\n",
       "count  2051.000000   2051.000000  2051.000000   2051.000000  2051.000000   \n",
       "mean      2.591419     16.511458     2.397855     51.574354     6.219893   \n",
       "std      25.229615     57.374204    37.782570    573.393985     2.744736   \n",
       "min       0.000000      0.000000     0.000000      0.000000     1.000000   \n",
       "25%       0.000000      0.000000     0.000000      0.000000     4.000000   \n",
       "50%       0.000000      0.000000     0.000000      0.000000     6.000000   \n",
       "75%       0.000000      0.000000     0.000000      0.000000     8.000000   \n",
       "max     508.000000    490.000000   800.000000  17000.000000    12.000000   \n",
       "\n",
       "           Yr Sold      SalePrice  \n",
       "count  2051.000000    2051.000000  \n",
       "mean   2007.775719  181469.701609  \n",
       "std       1.312014   79258.659352  \n",
       "min    2006.000000   12789.000000  \n",
       "25%    2007.000000  129825.000000  \n",
       "50%    2008.000000  162500.000000  \n",
       "75%    2009.000000  214000.000000  \n",
       "max    2010.000000  611657.000000  \n",
       "\n",
       "[8 rows x 39 columns]"
      ]
     },
     "execution_count": 6,
     "metadata": {},
     "output_type": "execute_result"
    }
   ],
   "source": [
    "df.describe()\n",
    "\n",
    "#getting info on my training data such as shape, data types of each column, and whether or not null values exist"
   ]
  },
  {
   "cell_type": "code",
   "execution_count": 7,
   "metadata": {},
   "outputs": [],
   "source": [
    "def clean_columns(col):\n",
    "    return col.lower().replace(' ', '_').replace('/', '_')\n",
    "\n",
    "#built a function to clean my columns by:\n",
    "#1) making them lowercase and 2) replacing spaces and forward slashes with underscores"
   ]
  },
  {
   "cell_type": "code",
   "execution_count": 8,
   "metadata": {},
   "outputs": [
    {
     "data": {
      "text/html": [
       "<div>\n",
       "<style scoped>\n",
       "    .dataframe tbody tr th:only-of-type {\n",
       "        vertical-align: middle;\n",
       "    }\n",
       "\n",
       "    .dataframe tbody tr th {\n",
       "        vertical-align: top;\n",
       "    }\n",
       "\n",
       "    .dataframe thead th {\n",
       "        text-align: right;\n",
       "    }\n",
       "</style>\n",
       "<table border=\"1\" class=\"dataframe\">\n",
       "  <thead>\n",
       "    <tr style=\"text-align: right;\">\n",
       "      <th></th>\n",
       "      <th>id</th>\n",
       "      <th>pid</th>\n",
       "      <th>ms_subclass</th>\n",
       "      <th>ms_zoning</th>\n",
       "      <th>lot_frontage</th>\n",
       "      <th>lot_area</th>\n",
       "      <th>street</th>\n",
       "      <th>alley</th>\n",
       "      <th>lot_shape</th>\n",
       "      <th>land_contour</th>\n",
       "      <th>...</th>\n",
       "      <th>screen_porch</th>\n",
       "      <th>pool_area</th>\n",
       "      <th>pool_qc</th>\n",
       "      <th>fence</th>\n",
       "      <th>misc_feature</th>\n",
       "      <th>misc_val</th>\n",
       "      <th>mo_sold</th>\n",
       "      <th>yr_sold</th>\n",
       "      <th>sale_type</th>\n",
       "      <th>saleprice</th>\n",
       "    </tr>\n",
       "  </thead>\n",
       "  <tbody>\n",
       "    <tr>\n",
       "      <th>0</th>\n",
       "      <td>109</td>\n",
       "      <td>533352170</td>\n",
       "      <td>60</td>\n",
       "      <td>RL</td>\n",
       "      <td>NaN</td>\n",
       "      <td>13517</td>\n",
       "      <td>Pave</td>\n",
       "      <td>NaN</td>\n",
       "      <td>IR1</td>\n",
       "      <td>Lvl</td>\n",
       "      <td>...</td>\n",
       "      <td>0</td>\n",
       "      <td>0</td>\n",
       "      <td>NaN</td>\n",
       "      <td>NaN</td>\n",
       "      <td>NaN</td>\n",
       "      <td>0</td>\n",
       "      <td>3</td>\n",
       "      <td>2010</td>\n",
       "      <td>WD</td>\n",
       "      <td>130500</td>\n",
       "    </tr>\n",
       "  </tbody>\n",
       "</table>\n",
       "<p>1 rows × 81 columns</p>\n",
       "</div>"
      ],
      "text/plain": [
       "    id        pid  ms_subclass ms_zoning  lot_frontage  lot_area street alley  \\\n",
       "0  109  533352170           60        RL           NaN     13517   Pave   NaN   \n",
       "\n",
       "  lot_shape land_contour    ...     screen_porch pool_area pool_qc fence  \\\n",
       "0       IR1          Lvl    ...                0         0     NaN   NaN   \n",
       "\n",
       "  misc_feature misc_val mo_sold yr_sold  sale_type  saleprice  \n",
       "0          NaN        0       3    2010        WD      130500  \n",
       "\n",
       "[1 rows x 81 columns]"
      ]
     },
     "execution_count": 8,
     "metadata": {},
     "output_type": "execute_result"
    }
   ],
   "source": [
    "df.columns = [clean_columns(col) for col in df.columns]\n",
    "df.head(1)\n",
    "\n",
    "#passed my function in a list comprehension to do it all with one line of code rather than many\n",
    "#displayed my head to confirm my desired results were achieved"
   ]
  },
  {
   "cell_type": "code",
   "execution_count": 9,
   "metadata": {},
   "outputs": [
    {
     "data": {
      "text/html": [
       "<div>\n",
       "<style scoped>\n",
       "    .dataframe tbody tr th:only-of-type {\n",
       "        vertical-align: middle;\n",
       "    }\n",
       "\n",
       "    .dataframe tbody tr th {\n",
       "        vertical-align: top;\n",
       "    }\n",
       "\n",
       "    .dataframe thead th {\n",
       "        text-align: right;\n",
       "    }\n",
       "</style>\n",
       "<table border=\"1\" class=\"dataframe\">\n",
       "  <thead>\n",
       "    <tr style=\"text-align: right;\">\n",
       "      <th></th>\n",
       "      <th>id</th>\n",
       "      <th>pid</th>\n",
       "      <th>ms_subclass</th>\n",
       "      <th>ms_zoning</th>\n",
       "      <th>lot_frontage</th>\n",
       "      <th>lot_area</th>\n",
       "      <th>street</th>\n",
       "      <th>alley</th>\n",
       "      <th>lot_shape</th>\n",
       "      <th>land_contour</th>\n",
       "      <th>...</th>\n",
       "      <th>3ssn_porch</th>\n",
       "      <th>screen_porch</th>\n",
       "      <th>pool_area</th>\n",
       "      <th>pool_qc</th>\n",
       "      <th>fence</th>\n",
       "      <th>misc_feature</th>\n",
       "      <th>misc_val</th>\n",
       "      <th>mo_sold</th>\n",
       "      <th>yr_sold</th>\n",
       "      <th>sale_type</th>\n",
       "    </tr>\n",
       "  </thead>\n",
       "  <tbody>\n",
       "    <tr>\n",
       "      <th>0</th>\n",
       "      <td>2658</td>\n",
       "      <td>902301120</td>\n",
       "      <td>190</td>\n",
       "      <td>RM</td>\n",
       "      <td>69.0</td>\n",
       "      <td>9142</td>\n",
       "      <td>Pave</td>\n",
       "      <td>Grvl</td>\n",
       "      <td>Reg</td>\n",
       "      <td>Lvl</td>\n",
       "      <td>...</td>\n",
       "      <td>0</td>\n",
       "      <td>0</td>\n",
       "      <td>0</td>\n",
       "      <td>NaN</td>\n",
       "      <td>NaN</td>\n",
       "      <td>NaN</td>\n",
       "      <td>0</td>\n",
       "      <td>4</td>\n",
       "      <td>2006</td>\n",
       "      <td>WD</td>\n",
       "    </tr>\n",
       "  </tbody>\n",
       "</table>\n",
       "<p>1 rows × 80 columns</p>\n",
       "</div>"
      ],
      "text/plain": [
       "     id        pid  ms_subclass ms_zoning  lot_frontage  lot_area street  \\\n",
       "0  2658  902301120          190        RM          69.0      9142   Pave   \n",
       "\n",
       "  alley lot_shape land_contour    ...     3ssn_porch screen_porch pool_area  \\\n",
       "0  Grvl       Reg          Lvl    ...              0            0         0   \n",
       "\n",
       "  pool_qc fence misc_feature misc_val mo_sold  yr_sold  sale_type  \n",
       "0     NaN   NaN          NaN        0       4     2006        WD   \n",
       "\n",
       "[1 rows x 80 columns]"
      ]
     },
     "execution_count": 9,
     "metadata": {},
     "output_type": "execute_result"
    }
   ],
   "source": [
    "df_2.columns = [clean_columns(col) for col in df_2.columns]\n",
    "df_2.head(1)\n",
    "\n",
    "#passed my function in a list comprehension to do it all with one line of code rather than many\n",
    "#displayed my head to confirm my desired results were achieved"
   ]
  },
  {
   "cell_type": "code",
   "execution_count": 10,
   "metadata": {},
   "outputs": [
    {
     "data": {
      "text/plain": [
       "lot_frontage       330\n",
       "alley             1911\n",
       "mas_vnr_type        22\n",
       "mas_vnr_area        22\n",
       "bsmt_qual           55\n",
       "bsmt_cond           55\n",
       "bsmt_exposure       58\n",
       "bsmtfin_type_1      55\n",
       "bsmtfin_sf_1         1\n",
       "bsmtfin_type_2      56\n",
       "bsmtfin_sf_2         1\n",
       "bsmt_unf_sf          1\n",
       "total_bsmt_sf        1\n",
       "bsmt_full_bath       2\n",
       "bsmt_half_bath       2\n",
       "fireplace_qu      1000\n",
       "garage_type        113\n",
       "garage_yr_blt      114\n",
       "garage_finish      114\n",
       "garage_cars          1\n",
       "garage_area          1\n",
       "garage_qual        114\n",
       "garage_cond        114\n",
       "pool_qc           2042\n",
       "fence             1651\n",
       "misc_feature      1986\n",
       "dtype: int64"
      ]
     },
     "execution_count": 10,
     "metadata": {},
     "output_type": "execute_result"
    }
   ],
   "source": [
    "df[df.columns[df.isnull().any()]].isnull().sum()\n",
    "\n",
    "#displaying only the columns with nulls and their sum"
   ]
  },
  {
   "cell_type": "code",
   "execution_count": 11,
   "metadata": {},
   "outputs": [
    {
     "data": {
      "text/plain": [
       "lot_frontage      160\n",
       "alley             821\n",
       "mas_vnr_type        1\n",
       "mas_vnr_area        1\n",
       "bsmt_qual          25\n",
       "bsmt_cond          25\n",
       "bsmt_exposure      25\n",
       "bsmtfin_type_1     25\n",
       "bsmtfin_type_2     25\n",
       "electrical          1\n",
       "fireplace_qu      422\n",
       "garage_type        44\n",
       "garage_yr_blt      45\n",
       "garage_finish      45\n",
       "garage_qual        45\n",
       "garage_cond        45\n",
       "pool_qc           875\n",
       "fence             707\n",
       "misc_feature      838\n",
       "dtype: int64"
      ]
     },
     "execution_count": 11,
     "metadata": {},
     "output_type": "execute_result"
    }
   ],
   "source": [
    "df_2[df_2.columns[df_2.isnull().any()]].isnull().sum()\n",
    "\n",
    "#displaying only the columns with nulls and their sum"
   ]
  },
  {
   "cell_type": "code",
   "execution_count": 12,
   "metadata": {},
   "outputs": [
    {
     "data": {
      "text/plain": [
       "Index(['lot_frontage', 'alley', 'mas_vnr_type', 'mas_vnr_area', 'bsmt_qual',\n",
       "       'bsmt_cond', 'bsmt_exposure', 'bsmtfin_type_1', 'bsmtfin_sf_1',\n",
       "       'bsmtfin_type_2', 'bsmtfin_sf_2', 'bsmt_unf_sf', 'total_bsmt_sf',\n",
       "       'bsmt_full_bath', 'bsmt_half_bath', 'fireplace_qu', 'garage_type',\n",
       "       'garage_yr_blt', 'garage_finish', 'garage_cars', 'garage_area',\n",
       "       'garage_qual', 'garage_cond', 'pool_qc', 'fence', 'misc_feature'],\n",
       "      dtype='object')"
      ]
     },
     "execution_count": 12,
     "metadata": {},
     "output_type": "execute_result"
    }
   ],
   "source": [
    "df.columns[df.isnull().any()]\n",
    "\n",
    "#displaying a list of columns that have null values"
   ]
  },
  {
   "cell_type": "code",
   "execution_count": 13,
   "metadata": {},
   "outputs": [],
   "source": [
    "def fill_na_with_mean_or_mode(col):\n",
    "    if col.dtype == int or col.dtype == float:\n",
    "        return col.fillna(round(col.mean()), inplace=True)\n",
    "    else:\n",
    "        return col.fillna(col.mode()[0], inplace=True)\n",
    "    \n",
    "#created a function to fill numeric and nonnumeric nulls with either their mean or mode."
   ]
  },
  {
   "cell_type": "code",
   "execution_count": 14,
   "metadata": {},
   "outputs": [],
   "source": [
    "[fill_na_with_mean_or_mode(df[col]) for col in ['lot_frontage', 'mas_vnr_area','garage_cars', 'garage_area']];\n",
    "\n",
    "#passed my function through a list comprehension so i could fill all null columns with one line of code"
   ]
  },
  {
   "cell_type": "code",
   "execution_count": 15,
   "metadata": {},
   "outputs": [],
   "source": [
    "[fill_na_with_mean_or_mode(df_2[col]) for col in ['lot_frontage', 'mas_vnr_area', 'electrical']];\n",
    "\n",
    "#passed my function through a list comprehension so i could fill all null columns with one line of code"
   ]
  },
  {
   "cell_type": "code",
   "execution_count": 16,
   "metadata": {},
   "outputs": [],
   "source": [
    "def make_string_na(col):\n",
    "        return col.fillna('NA', inplace=True)\n",
    "    \n",
    "#created a function to fill np.NaNs with string 'NA' for cases where 'NA' means No (some thing)"
   ]
  },
  {
   "cell_type": "code",
   "execution_count": 17,
   "metadata": {},
   "outputs": [],
   "source": [
    "[make_string_na(df[col]) for col in ['alley', 'bsmt_qual', 'bsmt_cond', 'bsmt_exposure', 'bsmtfin_type_1', 'bsmtfin_type_2', 'fireplace_qu', 'garage_type', 'garage_finish', 'garage_qual', 'garage_cond', 'pool_qc', 'fence', 'misc_feature', 'mas_vnr_type']];\n",
    "\n",
    "#passed my function through a list comprehension so i could fill all columns with np.NaNs with one line of code"
   ]
  },
  {
   "cell_type": "code",
   "execution_count": 18,
   "metadata": {},
   "outputs": [],
   "source": [
    "[make_string_na(df_2[col]) for col in ['alley', 'bsmt_qual', 'bsmt_cond', 'bsmt_exposure', 'bsmtfin_type_1', 'bsmtfin_type_2', 'fireplace_qu', 'garage_type', 'garage_finish', 'garage_qual', 'garage_cond', 'pool_qc', 'fence', 'misc_feature', 'mas_vnr_type']];\n",
    "\n",
    "#passed my function through a list comprehension so i could fill all columns with np.NaNs with one line of code"
   ]
  },
  {
   "cell_type": "code",
   "execution_count": 19,
   "metadata": {},
   "outputs": [],
   "source": [
    "[df[col].fillna(0, inplace=True) for col in ['bsmtfin_sf_1', 'bsmtfin_sf_2', 'bsmt_unf_sf', 'total_bsmt_sf', 'bsmt_full_bath', 'bsmt_half_bath']];\n",
    "\n",
    "#created a list comprehension to fill np.NaNs with 0"
   ]
  },
  {
   "cell_type": "code",
   "execution_count": 20,
   "metadata": {},
   "outputs": [],
   "source": [
    "[df_2[col].fillna(0, inplace=True) for col in ['bsmtfin_sf_1', 'bsmtfin_sf_2', 'bsmt_unf_sf', 'total_bsmt_sf', 'bsmt_full_bath', 'bsmt_half_bath']];\n",
    "\n",
    "#created a list comprehension to fill np.NaNs with 0"
   ]
  },
  {
   "cell_type": "code",
   "execution_count": 21,
   "metadata": {},
   "outputs": [],
   "source": [
    "df.garage_yr_blt.fillna(df.year_built, inplace=True)\n",
    "df_2.garage_yr_blt.fillna(df_2.year_built, inplace=True)\n",
    "\n",
    "#filling null values in the garage_yr_blt column with the corresponding value of the year_built column"
   ]
  },
  {
   "cell_type": "code",
   "execution_count": 22,
   "metadata": {},
   "outputs": [
    {
     "data": {
      "text/plain": [
       "1699    2207.0\n",
       "Name: garage_yr_blt, dtype: float64"
      ]
     },
     "execution_count": 22,
     "metadata": {},
     "output_type": "execute_result"
    }
   ],
   "source": [
    "df['garage_yr_blt'][df['garage_yr_blt'] > 2010]\n",
    "\n",
    "#checking to see if there are any instances where year is greater than 2010\n",
    "#performed this check for all columns indicating year >> ['year_built', 'year_remod_add', 'yr_sold']"
   ]
  },
  {
   "cell_type": "code",
   "execution_count": 23,
   "metadata": {},
   "outputs": [
    {
     "data": {
      "text/html": [
       "<div>\n",
       "<style scoped>\n",
       "    .dataframe tbody tr th:only-of-type {\n",
       "        vertical-align: middle;\n",
       "    }\n",
       "\n",
       "    .dataframe tbody tr th {\n",
       "        vertical-align: top;\n",
       "    }\n",
       "\n",
       "    .dataframe thead th {\n",
       "        text-align: right;\n",
       "    }\n",
       "</style>\n",
       "<table border=\"1\" class=\"dataframe\">\n",
       "  <thead>\n",
       "    <tr style=\"text-align: right;\">\n",
       "      <th></th>\n",
       "      <th>year_built</th>\n",
       "      <th>year_remod_add</th>\n",
       "      <th>roof_style</th>\n",
       "      <th>roof_matl</th>\n",
       "      <th>exterior_1st</th>\n",
       "      <th>exterior_2nd</th>\n",
       "      <th>mas_vnr_type</th>\n",
       "      <th>mas_vnr_area</th>\n",
       "      <th>exter_qual</th>\n",
       "      <th>exter_cond</th>\n",
       "      <th>foundation</th>\n",
       "      <th>bsmt_qual</th>\n",
       "      <th>bsmt_cond</th>\n",
       "      <th>bsmt_exposure</th>\n",
       "      <th>bsmtfin_type_1</th>\n",
       "      <th>bsmtfin_sf_1</th>\n",
       "      <th>bsmtfin_type_2</th>\n",
       "      <th>bsmtfin_sf_2</th>\n",
       "      <th>bsmt_unf_sf</th>\n",
       "      <th>total_bsmt_sf</th>\n",
       "    </tr>\n",
       "  </thead>\n",
       "  <tbody>\n",
       "    <tr>\n",
       "      <th>1699</th>\n",
       "      <td>2006</td>\n",
       "      <td>2007</td>\n",
       "      <td>Hip</td>\n",
       "      <td>CompShg</td>\n",
       "      <td>VinylSd</td>\n",
       "      <td>VinylSd</td>\n",
       "      <td>NA</td>\n",
       "      <td>100.0</td>\n",
       "      <td>Gd</td>\n",
       "      <td>TA</td>\n",
       "      <td>PConc</td>\n",
       "      <td>Gd</td>\n",
       "      <td>TA</td>\n",
       "      <td>Av</td>\n",
       "      <td>GLQ</td>\n",
       "      <td>583.0</td>\n",
       "      <td>Unf</td>\n",
       "      <td>0.0</td>\n",
       "      <td>963.0</td>\n",
       "      <td>1546.0</td>\n",
       "    </tr>\n",
       "  </tbody>\n",
       "</table>\n",
       "</div>"
      ],
      "text/plain": [
       "      year_built  year_remod_add roof_style roof_matl exterior_1st  \\\n",
       "1699        2006            2007        Hip   CompShg      VinylSd   \n",
       "\n",
       "     exterior_2nd mas_vnr_type  mas_vnr_area exter_qual exter_cond foundation  \\\n",
       "1699      VinylSd           NA         100.0         Gd         TA      PConc   \n",
       "\n",
       "     bsmt_qual bsmt_cond bsmt_exposure bsmtfin_type_1  bsmtfin_sf_1  \\\n",
       "1699        Gd        TA            Av            GLQ         583.0   \n",
       "\n",
       "     bsmtfin_type_2  bsmtfin_sf_2  bsmt_unf_sf  total_bsmt_sf  \n",
       "1699            Unf           0.0        963.0         1546.0  "
      ]
     },
     "execution_count": 23,
     "metadata": {},
     "output_type": "execute_result"
    }
   ],
   "source": [
    "df[df['garage_yr_blt'] > 2010][df.columns[20:40]]\n",
    "\n",
    "#wanted to look at the entire row where garage_yr_blt was greater than 2010 for more context"
   ]
  },
  {
   "cell_type": "code",
   "execution_count": 24,
   "metadata": {},
   "outputs": [],
   "source": [
    "df.garage_yr_blt[1699] = 2007\n",
    "\n",
    "#changed the value from 2207 to 2007\n",
    "#assuming the 2207 was a data entry error and the year the was garage built was also the year remodeling/additions happened"
   ]
  },
  {
   "cell_type": "code",
   "execution_count": 25,
   "metadata": {},
   "outputs": [
    {
     "data": {
      "text/plain": [
       "Series([], dtype: float64)"
      ]
     },
     "execution_count": 25,
     "metadata": {},
     "output_type": "execute_result"
    }
   ],
   "source": [
    "df[df.columns[df.isnull().any()]].isnull().sum()\n",
    "\n",
    "#confirming there are no longer any null values"
   ]
  },
  {
   "cell_type": "code",
   "execution_count": 26,
   "metadata": {},
   "outputs": [
    {
     "data": {
      "text/plain": [
       "Series([], dtype: float64)"
      ]
     },
     "execution_count": 26,
     "metadata": {},
     "output_type": "execute_result"
    }
   ],
   "source": [
    "df_2[df_2.columns[df_2.isnull().any()]].isnull().sum()\n",
    "\n",
    "#confirming there are no longer any null values"
   ]
  },
  {
   "cell_type": "code",
   "execution_count": 27,
   "metadata": {},
   "outputs": [
    {
     "data": {
      "text/plain": [
       "Series([], Name: saleprice, dtype: int64)"
      ]
     },
     "execution_count": 27,
     "metadata": {},
     "output_type": "execute_result"
    }
   ],
   "source": [
    "df.saleprice[df.saleprice < 0]\n",
    "\n",
    "#checking to make sure there were no instances where sale price was less than $0"
   ]
  },
  {
   "cell_type": "markdown",
   "metadata": {},
   "source": [
    "<center> \n",
    "    <h1> EXPLORATORY DATA ANALYSIS </h1> \n",
    "</center>"
   ]
  },
  {
   "cell_type": "code",
   "execution_count": 28,
   "metadata": {},
   "outputs": [
    {
     "data": {
      "image/png": "[encoded data removed]",
      "text/plain": [
       "<Figure size 792x576 with 1 Axes>"
      ]
     },
     "metadata": {},
     "output_type": "display_data"
    }
   ],
   "source": [
    "fig, ax = plt.subplots(figsize = (11, 8))\n",
    "sns.distplot(df.saleprice, kde=False, color='#A15EDB', bins=10)\n",
    "\n",
    "plt.xlabel('Sale Price', fontsize=19, labelpad=11)\n",
    "plt.xticks(fontsize=14)\n",
    "plt.ylabel('Count', fontsize=19, labelpad=11)\n",
    "plt.yticks(fontsize=14);\n",
    "\n",
    "#plt.savefig(\"target_variable.png\");\n",
    "\n",
    "#looking at the distribution of my target variable"
   ]
  },
  {
   "cell_type": "code",
   "execution_count": 29,
   "metadata": {},
   "outputs": [
    {
     "data": {
      "text/plain": [
       "count      2051.000000\n",
       "mean     181469.701609\n",
       "std       79258.659352\n",
       "min       12789.000000\n",
       "25%      129825.000000\n",
       "50%      162500.000000\n",
       "75%      214000.000000\n",
       "max      611657.000000\n",
       "Name: saleprice, dtype: float64"
      ]
     },
     "execution_count": 29,
     "metadata": {},
     "output_type": "execute_result"
    }
   ],
   "source": [
    "df.saleprice.describe()\n",
    "\n",
    "#getting summary stats on my target variable"
   ]
  },
  {
   "cell_type": "code",
   "execution_count": 30,
   "metadata": {},
   "outputs": [
    {
     "data": {
      "image/png": "[encoded data removed]",
      "text/plain": [
       "<Figure size 792x576 with 1 Axes>"
      ]
     },
     "metadata": {},
     "output_type": "display_data"
    }
   ],
   "source": [
    "fig, ax = plt.subplots(figsize = (11, 8))\n",
    "sns.distplot(np.log(df.saleprice), kde=False, color='#A15EDB', bins=10)\n",
    "\n",
    "plt.xlabel('Sale Price', fontsize=19, labelpad=11)\n",
    "plt.xticks(fontsize=14)\n",
    "plt.ylabel('Count', fontsize=19, labelpad=11)\n",
    "plt.yticks(fontsize=14);\n",
    "\n",
    "#plt.savefig(\"target_variable_log.png\");\n",
    "\n",
    "#looking at the distribution of my target after taking the log"
   ]
  },
  {
   "cell_type": "code",
   "execution_count": 31,
   "metadata": {},
   "outputs": [
    {
     "data": {
      "image/png": "[encoded data removed]",
      "text/plain": [
       "<Figure size 1440x792 with 2 Axes>"
      ]
     },
     "metadata": {},
     "output_type": "display_data"
    }
   ],
   "source": [
    "fig, ax = plt.subplots(figsize = (20, 11))\n",
    "\n",
    "cmap = sns.diverging_palette(150, 275, as_cmap=True)\n",
    "sns.heatmap(df.corr()[['saleprice']][round(df.corr()['saleprice'].sort_values(ascending=False), 1) >= .5], annot=True, linewidths=.4, fmt=\".1f\", cmap=cmap, ax=ax);\n",
    "#sns.set(font_scale=4)\n",
    "\n",
    "#plt.savefig(\"heatmap.png\");\n",
    "\n",
    "#looking at a correlation heatmap of my features in relation to sale price with correlations being greater than or equal to .5"
   ]
  },
  {
   "cell_type": "code",
   "execution_count": 32,
   "metadata": {},
   "outputs": [
    {
     "data": {
      "text/plain": [
       "<matplotlib.axes._subplots.AxesSubplot at 0x1d60844c7f0>"
      ]
     },
     "execution_count": 32,
     "metadata": {},
     "output_type": "execute_result"
    },
    {
     "data": {
      "image/png": "[encoded data removed]",
      "text/plain": [
       "<Figure size 1296x792 with 6 Axes>"
      ]
     },
     "metadata": {},
     "output_type": "display_data"
    }
   ],
   "source": [
    "fig, ax = plt.subplots(nrows = 2, ncols = 3, figsize = (18,11), sharey=True)\n",
    "fig.subplots_adjust(wspace=.2, hspace=.35)\n",
    "#sns.set(font_scale=.5)\n",
    "\n",
    "sns.scatterplot(x=df.overall_qual, y=df.saleprice, ax=ax[0, 0], color='#69547C', )\n",
    "sns.scatterplot(x=df.year_built, y=df.saleprice, ax=ax[0, 1], color='#69547C')\n",
    "sns.scatterplot(x=df.year_remod_add, y=df.saleprice, ax=ax[0, 2], color='#69547C')\n",
    "sns.scatterplot(x=df.total_bsmt_sf, y=df.saleprice, ax=ax[1, 0], color='#69547C')\n",
    "sns.scatterplot(x=df.garage_area, y=df.saleprice, ax=ax[1, 1], color='#69547C')\n",
    "sns.scatterplot(x=df.full_bath, y=df.saleprice, ax=ax[1, 2], color='#69547C')\n",
    "\n",
    "#plt.savefig(\"subplots.png\");\n",
    "\n",
    "#plotting some of the features from the correlation heatmap to see the linear relationship beyond numbers"
   ]
  },
  {
   "cell_type": "markdown",
   "metadata": {},
   "source": [
    "<center> \n",
    "    <h1> FEATURE ENGINEERING & MORE EDA </h1> \n",
    "</center>"
   ]
  },
  {
   "cell_type": "code",
   "execution_count": 33,
   "metadata": {},
   "outputs": [],
   "source": [
    "df['sale_price_bool'] = df.saleprice.map(lambda x: 0 if x <= 162500 else 1)\n",
    "df_2['sale_price_bool'] = df.saleprice.map(lambda x: 0 if x <= 162500 else 1)\n",
    "\n",
    "#engineering a feature that with take into account sale price and return boolean values\n",
    "#(1 if greater than the median and 0 if otherwise)"
   ]
  },
  {
   "cell_type": "code",
   "execution_count": 34,
   "metadata": {},
   "outputs": [],
   "source": [
    "df.saleprice = df.saleprice.map(np.log)\n",
    "\n",
    "#applied a permanent log transformation to my target variable"
   ]
  },
  {
   "cell_type": "code",
   "execution_count": 35,
   "metadata": {},
   "outputs": [
    {
     "data": {
      "text/plain": [
       "object     42\n",
       "int64      28\n",
       "float64    12\n",
       "dtype: int64"
      ]
     },
     "execution_count": 35,
     "metadata": {},
     "output_type": "execute_result"
    }
   ],
   "source": [
    "df.dtypes.value_counts()\n",
    "\n",
    "#looking at the counts of data types for my training data"
   ]
  },
  {
   "cell_type": "code",
   "execution_count": 36,
   "metadata": {},
   "outputs": [
    {
     "data": {
      "text/plain": [
       "Index(['ms_zoning', 'street', 'alley', 'lot_shape', 'land_contour',\n",
       "       'utilities', 'lot_config', 'land_slope', 'neighborhood', 'condition_1',\n",
       "       'condition_2', 'bldg_type', 'house_style', 'roof_style', 'roof_matl',\n",
       "       'exterior_1st', 'exterior_2nd', 'mas_vnr_type', 'exter_qual',\n",
       "       'exter_cond', 'foundation', 'bsmt_qual', 'bsmt_cond', 'bsmt_exposure',\n",
       "       'bsmtfin_type_1', 'bsmtfin_type_2', 'heating', 'heating_qc',\n",
       "       'central_air', 'electrical', 'kitchen_qual', 'functional',\n",
       "       'fireplace_qu', 'garage_type', 'garage_finish', 'garage_qual',\n",
       "       'garage_cond', 'paved_drive', 'pool_qc', 'fence', 'misc_feature',\n",
       "       'sale_type'],\n",
       "      dtype='object')"
      ]
     },
     "execution_count": 36,
     "metadata": {},
     "output_type": "execute_result"
    }
   ],
   "source": [
    "df.columns[df.dtypes == object]\n",
    "\n",
    "#looking at column names for instances where data type is equal to \"object\""
   ]
  },
  {
   "cell_type": "code",
   "execution_count": 37,
   "metadata": {},
   "outputs": [],
   "source": [
    "to_dummy = ['ms_zoning', 'street', 'alley', 'land_contour', 'lot_config', 'land_slope', 'neighborhood', 'condition_1',\n",
    "            'condition_2', 'bldg_type', 'house_style', 'roof_style', 'roof_matl', 'exterior_1st', 'exterior_2nd', \n",
    "            'mas_vnr_type', 'foundation', 'heating', 'central_air', 'electrical', 'functional', 'garage_type', 'utilities',\n",
    "            'paved_drive', 'fence', 'misc_feature', 'sale_type', 'bsmt_exposure', 'lot_shape', 'garage_finish', 'pool_qc']\n",
    "\n",
    "#took features from the list above and added them here to be dummied"
   ]
  },
  {
   "cell_type": "code",
   "execution_count": 38,
   "metadata": {},
   "outputs": [],
   "source": [
    "to_map = ['bsmt_cond', 'bsmt_qual', 'bsmtfin_type_1', 'bsmtfin_type_2', 'exter_cond', 'exter_qual', 'fireplace_qu',\n",
    "          'garage_cond', 'garage_qual', 'heating_qc', 'kitchen_qual']\n",
    "\n",
    "#took features from the list above and added them here to be mapped"
   ]
  },
  {
   "cell_type": "code",
   "execution_count": 39,
   "metadata": {},
   "outputs": [
    {
     "data": {
      "text/html": [
       "<div>\n",
       "<style scoped>\n",
       "    .dataframe tbody tr th:only-of-type {\n",
       "        vertical-align: middle;\n",
       "    }\n",
       "\n",
       "    .dataframe tbody tr th {\n",
       "        vertical-align: top;\n",
       "    }\n",
       "\n",
       "    .dataframe thead th {\n",
       "        text-align: right;\n",
       "    }\n",
       "</style>\n",
       "<table border=\"1\" class=\"dataframe\">\n",
       "  <thead>\n",
       "    <tr style=\"text-align: right;\">\n",
       "      <th></th>\n",
       "      <th>id</th>\n",
       "      <th>pid</th>\n",
       "      <th>ms_subclass</th>\n",
       "      <th>lot_frontage</th>\n",
       "      <th>lot_area</th>\n",
       "      <th>overall_qual</th>\n",
       "      <th>overall_cond</th>\n",
       "      <th>year_built</th>\n",
       "      <th>year_remod_add</th>\n",
       "      <th>mas_vnr_area</th>\n",
       "      <th>...</th>\n",
       "      <th>lot_shape_IR2</th>\n",
       "      <th>lot_shape_IR3</th>\n",
       "      <th>lot_shape_Reg</th>\n",
       "      <th>garage_finish_NA</th>\n",
       "      <th>garage_finish_RFn</th>\n",
       "      <th>garage_finish_Unf</th>\n",
       "      <th>pool_qc_Fa</th>\n",
       "      <th>pool_qc_Gd</th>\n",
       "      <th>pool_qc_NA</th>\n",
       "      <th>pool_qc_TA</th>\n",
       "    </tr>\n",
       "  </thead>\n",
       "  <tbody>\n",
       "    <tr>\n",
       "      <th>0</th>\n",
       "      <td>109</td>\n",
       "      <td>533352170</td>\n",
       "      <td>60</td>\n",
       "      <td>69.0</td>\n",
       "      <td>13517</td>\n",
       "      <td>6</td>\n",
       "      <td>8</td>\n",
       "      <td>1976</td>\n",
       "      <td>2005</td>\n",
       "      <td>289.0</td>\n",
       "      <td>...</td>\n",
       "      <td>0</td>\n",
       "      <td>0</td>\n",
       "      <td>0</td>\n",
       "      <td>0</td>\n",
       "      <td>1</td>\n",
       "      <td>0</td>\n",
       "      <td>0</td>\n",
       "      <td>0</td>\n",
       "      <td>1</td>\n",
       "      <td>0</td>\n",
       "    </tr>\n",
       "  </tbody>\n",
       "</table>\n",
       "<p>1 rows × 226 columns</p>\n",
       "</div>"
      ],
      "text/plain": [
       "    id        pid  ms_subclass  lot_frontage  lot_area  overall_qual  \\\n",
       "0  109  533352170           60          69.0     13517             6   \n",
       "\n",
       "   overall_cond  year_built  year_remod_add  mas_vnr_area     ...      \\\n",
       "0             8        1976            2005         289.0     ...       \n",
       "\n",
       "  lot_shape_IR2 lot_shape_IR3 lot_shape_Reg garage_finish_NA  \\\n",
       "0             0             0             0                0   \n",
       "\n",
       "  garage_finish_RFn  garage_finish_Unf pool_qc_Fa  pool_qc_Gd  pool_qc_NA  \\\n",
       "0                 1                  0          0           0           1   \n",
       "\n",
       "   pool_qc_TA  \n",
       "0           0  \n",
       "\n",
       "[1 rows x 226 columns]"
      ]
     },
     "execution_count": 39,
     "metadata": {},
     "output_type": "execute_result"
    }
   ],
   "source": [
    "df = pd.get_dummies(df, columns=to_dummy, drop_first=True)\n",
    "df.head(1)\n",
    "\n",
    "#dummied all of the features in my 'to_dummy' list and displayed the head to confirm desired result"
   ]
  },
  {
   "cell_type": "code",
   "execution_count": 40,
   "metadata": {},
   "outputs": [
    {
     "data": {
      "text/html": [
       "<div>\n",
       "<style scoped>\n",
       "    .dataframe tbody tr th:only-of-type {\n",
       "        vertical-align: middle;\n",
       "    }\n",
       "\n",
       "    .dataframe tbody tr th {\n",
       "        vertical-align: top;\n",
       "    }\n",
       "\n",
       "    .dataframe thead th {\n",
       "        text-align: right;\n",
       "    }\n",
       "</style>\n",
       "<table border=\"1\" class=\"dataframe\">\n",
       "  <thead>\n",
       "    <tr style=\"text-align: right;\">\n",
       "      <th></th>\n",
       "      <th>id</th>\n",
       "      <th>pid</th>\n",
       "      <th>ms_subclass</th>\n",
       "      <th>lot_frontage</th>\n",
       "      <th>lot_area</th>\n",
       "      <th>overall_qual</th>\n",
       "      <th>overall_cond</th>\n",
       "      <th>year_built</th>\n",
       "      <th>year_remod_add</th>\n",
       "      <th>mas_vnr_area</th>\n",
       "      <th>...</th>\n",
       "      <th>bsmt_exposure_NA</th>\n",
       "      <th>bsmt_exposure_No</th>\n",
       "      <th>lot_shape_IR2</th>\n",
       "      <th>lot_shape_IR3</th>\n",
       "      <th>lot_shape_Reg</th>\n",
       "      <th>garage_finish_NA</th>\n",
       "      <th>garage_finish_RFn</th>\n",
       "      <th>garage_finish_Unf</th>\n",
       "      <th>pool_qc_NA</th>\n",
       "      <th>pool_qc_TA</th>\n",
       "    </tr>\n",
       "  </thead>\n",
       "  <tbody>\n",
       "    <tr>\n",
       "      <th>0</th>\n",
       "      <td>2658</td>\n",
       "      <td>902301120</td>\n",
       "      <td>190</td>\n",
       "      <td>69.0</td>\n",
       "      <td>9142</td>\n",
       "      <td>6</td>\n",
       "      <td>8</td>\n",
       "      <td>1910</td>\n",
       "      <td>1950</td>\n",
       "      <td>0.0</td>\n",
       "      <td>...</td>\n",
       "      <td>0</td>\n",
       "      <td>1</td>\n",
       "      <td>0</td>\n",
       "      <td>0</td>\n",
       "      <td>1</td>\n",
       "      <td>0</td>\n",
       "      <td>0</td>\n",
       "      <td>1</td>\n",
       "      <td>1</td>\n",
       "      <td>0</td>\n",
       "    </tr>\n",
       "  </tbody>\n",
       "</table>\n",
       "<p>1 rows × 210 columns</p>\n",
       "</div>"
      ],
      "text/plain": [
       "     id        pid  ms_subclass  lot_frontage  lot_area  overall_qual  \\\n",
       "0  2658  902301120          190          69.0      9142             6   \n",
       "\n",
       "   overall_cond  year_built  year_remod_add  mas_vnr_area     ...      \\\n",
       "0             8        1910            1950           0.0     ...       \n",
       "\n",
       "  bsmt_exposure_NA bsmt_exposure_No lot_shape_IR2 lot_shape_IR3 lot_shape_Reg  \\\n",
       "0                0                1             0             0             1   \n",
       "\n",
       "   garage_finish_NA garage_finish_RFn  garage_finish_Unf  pool_qc_NA  \\\n",
       "0                 0                 0                  1           1   \n",
       "\n",
       "   pool_qc_TA  \n",
       "0           0  \n",
       "\n",
       "[1 rows x 210 columns]"
      ]
     },
     "execution_count": 40,
     "metadata": {},
     "output_type": "execute_result"
    }
   ],
   "source": [
    "df_2 = pd.get_dummies(df_2, columns=to_dummy, drop_first=True)\n",
    "df_2.head(1)\n",
    "\n",
    "#dummied all of the features in my 'to_dummy' list and displayed the head to confirm desired result"
   ]
  },
  {
   "cell_type": "code",
   "execution_count": 41,
   "metadata": {},
   "outputs": [],
   "source": [
    "mapper_1 = {'Ex':5,\n",
    "               'Gd':4,\n",
    "               'TA':3,\n",
    "               'Fa':2,\n",
    "               'Po':1}\n",
    "\n",
    "#created a variable that housed the dictionary that would be passed when mapping my features"
   ]
  },
  {
   "cell_type": "code",
   "execution_count": 42,
   "metadata": {},
   "outputs": [
    {
     "name": "stdout",
     "output_type": "stream",
     "text": [
      "3    1247\n",
      "4     697\n",
      "5      81\n",
      "2      26\n",
      "Name: exter_qual_scored, dtype: int64\n",
      "3    1778\n",
      "4     215\n",
      "2      49\n",
      "5       7\n",
      "1       2\n",
      "Name: exter_cond_scored, dtype: int64\n",
      "5    1065\n",
      "3     597\n",
      "4     319\n",
      "2      67\n",
      "1       3\n",
      "Name: heating_qc_scored, dtype: int64\n",
      "3    1047\n",
      "4     806\n",
      "5     151\n",
      "2      47\n",
      "Name: kitchen_qual_scored, dtype: int64\n"
     ]
    }
   ],
   "source": [
    "df['exter_qual_scored'] = df.exter_qual.replace(mapper_1)\n",
    "df['exter_cond_scored'] = df.exter_cond.replace(mapper_1)\n",
    "df['heating_qc_scored'] = df.heating_qc.replace(mapper_1)\n",
    "df['kitchen_qual_scored'] = df.kitchen_qual.replace(mapper_1)\n",
    "\n",
    "print(df.exter_qual_scored.value_counts())\n",
    "print(df.exter_cond_scored.value_counts())\n",
    "print(df.heating_qc_scored.value_counts())\n",
    "print(df.kitchen_qual_scored.value_counts())\n",
    "\n",
    "#passed the 'mapper_1' variable in a replace function for all of the columns i wanted to score\n",
    "#simultaneously created a new column with the old column name + '_scored'\n",
    "#printed the new columns to confirm desired results"
   ]
  },
  {
   "cell_type": "code",
   "execution_count": 43,
   "metadata": {},
   "outputs": [
    {
     "name": "stdout",
     "output_type": "stream",
     "text": [
      "3    552\n",
      "4    292\n",
      "5     26\n",
      "2      9\n",
      "Name: exter_qual_scored, dtype: int64\n",
      "3    771\n",
      "4     84\n",
      "2     18\n",
      "5      5\n",
      "1      1\n",
      "Name: exter_cond_scored, dtype: int64\n",
      "5    430\n",
      "3    267\n",
      "4    157\n",
      "2     25\n",
      "Name: heating_qc_scored, dtype: int64\n",
      "3    447\n",
      "4    354\n",
      "5     54\n",
      "2     23\n",
      "1      1\n",
      "Name: kitchen_qual_scored, dtype: int64\n"
     ]
    }
   ],
   "source": [
    "df_2['exter_qual_scored'] = df_2.exter_qual.replace(mapper_1)\n",
    "df_2['exter_cond_scored'] = df_2.exter_cond.replace(mapper_1)\n",
    "df_2['heating_qc_scored'] = df_2.heating_qc.replace(mapper_1)\n",
    "df_2['kitchen_qual_scored'] = df_2.kitchen_qual.replace(mapper_1)\n",
    "\n",
    "print(df_2.exter_qual_scored.value_counts())\n",
    "print(df_2.exter_cond_scored.value_counts())\n",
    "print(df_2.heating_qc_scored.value_counts())\n",
    "print(df_2.kitchen_qual_scored.value_counts())\n",
    "\n",
    "#passed the 'mapper_1' variable in a replace function for all of the columns i wanted to score\n",
    "#simultaneously created a new column with the old column name + '_scored'\n",
    "#printed the new columns to confirm desired results"
   ]
  },
  {
   "cell_type": "code",
   "execution_count": 44,
   "metadata": {},
   "outputs": [],
   "source": [
    "mapper_2 = {'Ex':6,\n",
    "               'Gd':5,\n",
    "               'TA':4,\n",
    "               'Fa':3,\n",
    "               'Po':2,\n",
    "               'NA':1}\n",
    "\n",
    "#created a variable that housed the dictionary that would be passed when mapping my features"
   ]
  },
  {
   "cell_type": "code",
   "execution_count": 45,
   "metadata": {},
   "outputs": [
    {
     "name": "stdout",
     "output_type": "stream",
     "text": [
      "4    887\n",
      "5    864\n",
      "6    184\n",
      "3     60\n",
      "1     55\n",
      "2      1\n",
      "Name: bsmt_qual_scored, dtype: int64\n",
      "4    1834\n",
      "5      89\n",
      "3      65\n",
      "1      55\n",
      "2       5\n",
      "6       3\n",
      "Name: bsmt_cond_scored, dtype: int64\n",
      "1    1000\n",
      "5     523\n",
      "4     407\n",
      "3      59\n",
      "6      31\n",
      "2      31\n",
      "Name: fireplace_qu_scored, dtype: int64\n",
      "4    1832\n",
      "1     114\n",
      "3      82\n",
      "5      18\n",
      "6       3\n",
      "2       2\n",
      "Name: garage_qual_scored, dtype: int64\n",
      "4    1868\n",
      "1     114\n",
      "3      47\n",
      "5      12\n",
      "2       8\n",
      "6       2\n",
      "Name: garage_cond_scored, dtype: int64\n"
     ]
    }
   ],
   "source": [
    "df['bsmt_qual_scored'] = df.bsmt_qual.replace(mapper_2)\n",
    "df['bsmt_cond_scored'] = df.bsmt_cond.replace(mapper_2)\n",
    "df['fireplace_qu_scored'] = df.fireplace_qu.replace(mapper_2)\n",
    "df['garage_qual_scored'] = df.garage_qual.replace(mapper_2)\n",
    "df['garage_cond_scored'] = df.garage_cond.replace(mapper_2)\n",
    "\n",
    "\n",
    "print(df.bsmt_qual_scored.value_counts())\n",
    "print(df.bsmt_cond_scored.value_counts())\n",
    "print(df.fireplace_qu_scored.value_counts())\n",
    "print(df.garage_qual_scored.value_counts())\n",
    "print(df.garage_cond_scored.value_counts())\n",
    "\n",
    "#passed the 'mapper_2' variable in a replace function for all of the columns i wanted to score\n",
    "#simultaneously created a new column with the old column name + '_scored'\n",
    "#printed the new columns to confirm desired results"
   ]
  },
  {
   "cell_type": "code",
   "execution_count": 46,
   "metadata": {},
   "outputs": [
    {
     "name": "stdout",
     "output_type": "stream",
     "text": [
      "4    396\n",
      "5    355\n",
      "6     74\n",
      "3     28\n",
      "1     25\n",
      "2      1\n",
      "Name: bsmt_qual_scored, dtype: int64\n",
      "4    782\n",
      "3     39\n",
      "5     33\n",
      "1     25\n",
      "Name: bsmt_cond_scored, dtype: int64\n",
      "1    422\n",
      "5    221\n",
      "4    193\n",
      "3     16\n",
      "2     15\n",
      "6     12\n",
      "Name: fireplace_qu_scored, dtype: int64\n",
      "4    783\n",
      "1     45\n",
      "3     42\n",
      "5      6\n",
      "2      3\n",
      "Name: garage_qual_scored, dtype: int64\n",
      "4    797\n",
      "1     45\n",
      "3     27\n",
      "2      6\n",
      "5      3\n",
      "6      1\n",
      "Name: garage_cond_scored, dtype: int64\n"
     ]
    }
   ],
   "source": [
    "df_2['bsmt_qual_scored'] = df_2.bsmt_qual.replace(mapper_2)\n",
    "df_2['bsmt_cond_scored'] = df_2.bsmt_cond.replace(mapper_2)\n",
    "df_2['fireplace_qu_scored'] = df_2.fireplace_qu.replace(mapper_2)\n",
    "df_2['garage_qual_scored'] = df_2.garage_qual.replace(mapper_2)\n",
    "df_2['garage_cond_scored'] = df_2.garage_cond.replace(mapper_2)\n",
    "\n",
    "\n",
    "print(df_2.bsmt_qual_scored.value_counts())\n",
    "print(df_2.bsmt_cond_scored.value_counts())\n",
    "print(df_2.fireplace_qu_scored.value_counts())\n",
    "print(df_2.garage_qual_scored.value_counts())\n",
    "print(df_2.garage_cond_scored.value_counts())\n",
    "\n",
    "#passed the 'mapper_2' variable in a replace function for all of the columns i wanted to score\n",
    "#simultaneously created a new column with the old column name + '_scored'\n",
    "#printed the new columns to confirm desired results"
   ]
  },
  {
   "cell_type": "code",
   "execution_count": 47,
   "metadata": {},
   "outputs": [],
   "source": [
    "mapper_3 = {'GLQ':7,\n",
    "               'ALQ':6,\n",
    "               'BLQ':5,\n",
    "               'Rec':4,\n",
    "               'LwQ':3,\n",
    "               'Unf':2,\n",
    "               'NA':1}\n",
    "\n",
    "#created a variable that housed the dictionary that would be passed when mapping my features"
   ]
  },
  {
   "cell_type": "code",
   "execution_count": 48,
   "metadata": {},
   "outputs": [
    {
     "name": "stdout",
     "output_type": "stream",
     "text": [
      "7    615\n",
      "2    603\n",
      "6    293\n",
      "5    200\n",
      "4    183\n",
      "3    102\n",
      "1     55\n",
      "Name: bsmtfin_type_1_scored, dtype: int64\n",
      "2    1749\n",
      "4      80\n",
      "3      60\n",
      "1      56\n",
      "5      48\n",
      "6      35\n",
      "7      23\n",
      "Name: bsmtfin_type_2_scored, dtype: int64\n",
      "2    248\n",
      "7    244\n",
      "6    136\n",
      "4    105\n",
      "5     69\n",
      "3     52\n",
      "1     25\n",
      "Name: bsmtfin_type_1_scored, dtype: int64\n",
      "2    750\n",
      "3     29\n",
      "4     26\n",
      "1     25\n",
      "5     20\n",
      "6     18\n",
      "7     11\n",
      "Name: bsmtfin_type_2_scored, dtype: int64\n"
     ]
    }
   ],
   "source": [
    "df['bsmtfin_type_1_scored'] = df.bsmtfin_type_1.replace(mapper_3)\n",
    "df['bsmtfin_type_2_scored'] = df.bsmtfin_type_2.replace(mapper_3)\n",
    "\n",
    "df_2['bsmtfin_type_1_scored'] = df_2.bsmtfin_type_1.replace(mapper_3)\n",
    "df_2['bsmtfin_type_2_scored'] = df_2.bsmtfin_type_2.replace(mapper_3)\n",
    "\n",
    "print(df.bsmtfin_type_1_scored.value_counts())\n",
    "print(df.bsmtfin_type_2_scored.value_counts())\n",
    "\n",
    "print(df_2.bsmtfin_type_1_scored.value_counts())\n",
    "print(df_2.bsmtfin_type_2_scored.value_counts())\n",
    "\n",
    "#passed the 'mapper_3' variable in a replace function for all of the columns i wanted to score\n",
    "#simultaneously created a new column with the old column name + '_scored'\n",
    "#printed the new columns to confirm desired results"
   ]
  },
  {
   "cell_type": "code",
   "execution_count": 49,
   "metadata": {},
   "outputs": [],
   "source": [
    "df.drop(columns=to_map, inplace=True)\n",
    "\n",
    "#dropped the features in the 'to_map' list as they'd been replaced with the scored versions"
   ]
  },
  {
   "cell_type": "code",
   "execution_count": 50,
   "metadata": {},
   "outputs": [],
   "source": [
    "df_2.drop(columns=to_map, inplace=True)\n",
    "\n",
    "#dropped the features in the 'to_map' list as they'd been replaced with the scored versions"
   ]
  },
  {
   "cell_type": "code",
   "execution_count": 51,
   "metadata": {},
   "outputs": [
    {
     "data": {
      "text/plain": [
       "(2051, 226)"
      ]
     },
     "execution_count": 51,
     "metadata": {},
     "output_type": "execute_result"
    }
   ],
   "source": [
    "df.shape\n",
    "\n",
    "#checking the shape of my training data now that i've engineered features"
   ]
  },
  {
   "cell_type": "code",
   "execution_count": 52,
   "metadata": {},
   "outputs": [
    {
     "data": {
      "text/plain": [
       "(879, 210)"
      ]
     },
     "execution_count": 52,
     "metadata": {},
     "output_type": "execute_result"
    }
   ],
   "source": [
    "df_2.shape\n",
    "\n",
    "#checking the shape of my test data now that i've engineered features"
   ]
  },
  {
   "cell_type": "code",
   "execution_count": 53,
   "metadata": {},
   "outputs": [
    {
     "data": {
      "text/plain": [
       "{'condition_2_Feedr',\n",
       " 'condition_2_RRAe',\n",
       " 'condition_2_RRAn',\n",
       " 'condition_2_RRNn',\n",
       " 'electrical_Mix',\n",
       " 'exterior_1st_CBlock',\n",
       " 'exterior_1st_ImStucc',\n",
       " 'exterior_1st_Stone',\n",
       " 'exterior_2nd_Stone',\n",
       " 'functional_Sal',\n",
       " 'functional_Sev',\n",
       " 'heating_OthW',\n",
       " 'heating_Wall',\n",
       " 'misc_feature_Gar2',\n",
       " 'misc_feature_TenC',\n",
       " 'ms_zoning_C (all)',\n",
       " 'neighborhood_GrnHill',\n",
       " 'neighborhood_Landmrk',\n",
       " 'pool_qc_Fa',\n",
       " 'pool_qc_Gd',\n",
       " 'roof_matl_CompShg',\n",
       " 'roof_matl_Membran',\n",
       " 'utilities_NoSeWa'}"
      ]
     },
     "execution_count": 53,
     "metadata": {},
     "output_type": "execute_result"
    }
   ],
   "source": [
    "df_columns_to_drop = set(df.columns[df.columns != 'saleprice']) - set(df_2.columns)\n",
    "df_columns_to_drop\n",
    "\n",
    "#created a variable that houses the difference of my test data from my training data with the exception of sale price"
   ]
  },
  {
   "cell_type": "code",
   "execution_count": 54,
   "metadata": {},
   "outputs": [
    {
     "data": {
      "text/plain": [
       "{'exterior_1st_PreCast',\n",
       " 'exterior_2nd_Other',\n",
       " 'exterior_2nd_PreCast',\n",
       " 'heating_GasA',\n",
       " 'mas_vnr_type_CBlock',\n",
       " 'roof_matl_Metal',\n",
       " 'roof_matl_Roll',\n",
       " 'sale_type_VWD'}"
      ]
     },
     "execution_count": 54,
     "metadata": {},
     "output_type": "execute_result"
    }
   ],
   "source": [
    "df_2_columns_to_drop = set(df_2.columns) - set(df.columns)\n",
    "df_2_columns_to_drop\n",
    "\n",
    "#created a variable that houses the difference of my training data from my test data"
   ]
  },
  {
   "cell_type": "code",
   "execution_count": 55,
   "metadata": {},
   "outputs": [],
   "source": [
    "df.drop(columns=df_columns_to_drop, inplace=True)\n",
    "\n",
    "#dropped the columns from my training data that were not in my test data"
   ]
  },
  {
   "cell_type": "code",
   "execution_count": 56,
   "metadata": {},
   "outputs": [],
   "source": [
    "df_2.drop(columns=df_2_columns_to_drop, inplace=True)\n",
    "\n",
    "#dropped the columns from my test data that were not in my training data"
   ]
  },
  {
   "cell_type": "code",
   "execution_count": 57,
   "metadata": {},
   "outputs": [
    {
     "data": {
      "text/plain": [
       "(2051, 203)"
      ]
     },
     "execution_count": 57,
     "metadata": {},
     "output_type": "execute_result"
    }
   ],
   "source": [
    "df.shape\n",
    "\n",
    "#confirming shape"
   ]
  },
  {
   "cell_type": "code",
   "execution_count": 58,
   "metadata": {},
   "outputs": [
    {
     "data": {
      "text/plain": [
       "(879, 202)"
      ]
     },
     "execution_count": 58,
     "metadata": {},
     "output_type": "execute_result"
    }
   ],
   "source": [
    "df_2.shape\n",
    "\n",
    "#confirming shape"
   ]
  },
  {
   "cell_type": "code",
   "execution_count": 59,
   "metadata": {},
   "outputs": [
    {
     "data": {
      "image/png": "[encoded data removed]",
      "text/plain": [
       "<Figure size 288x1728 with 2 Axes>"
      ]
     },
     "metadata": {},
     "output_type": "display_data"
    }
   ],
   "source": [
    "fig, ax = plt.subplots(figsize = (4, 24))\n",
    "\n",
    "cmap = sns.diverging_palette(150, 275, as_cmap=True)\n",
    "sns.heatmap(df[df.columns[39:104]].join(df.saleprice).corr()[['saleprice']], annot=True, linewidths=.4, fmt=\".1f\", cmap=cmap, ax=ax);\n",
    "#sns.set(font_scale=4)\n",
    "\n",
    "#plt.savefig(\"heatmap_fe_1.png\");\n",
    "\n",
    "#created at a correlation heatmap of my new features in relation to sale price, looking at the first 65 features"
   ]
  },
  {
   "cell_type": "code",
   "execution_count": 60,
   "metadata": {},
   "outputs": [
    {
     "data": {
      "image/png": "[encoded data removed]",
      "text/plain": [
       "<Figure size 144x1080 with 2 Axes>"
      ]
     },
     "metadata": {},
     "output_type": "display_data"
    }
   ],
   "source": [
    "fig, ax = plt.subplots(figsize = (2, 15))\n",
    "\n",
    "cmap = sns.diverging_palette(150, 275, as_cmap=True)\n",
    "sns.heatmap(df[df.columns[104:121]].join(df.saleprice).corr()[['saleprice']], annot=True, linewidths=.4, fmt=\".1f\", cmap=cmap, ax=ax);\n",
    "#sns.set(font_scale=2.5)\n",
    "\n",
    "#plt.savefig(\"heatmap_fe_2.png\");\n",
    "\n",
    "#created at a correlation heatmap of my new features in relation to sale price, looking at the next 17 features"
   ]
  },
  {
   "cell_type": "code",
   "execution_count": 61,
   "metadata": {},
   "outputs": [
    {
     "data": {
      "image/png": "[encoded data removed]",
      "text/plain": [
       "<Figure size 288x1224 with 2 Axes>"
      ]
     },
     "metadata": {},
     "output_type": "display_data"
    }
   ],
   "source": [
    "fig, ax = plt.subplots(figsize = (4, 17))\n",
    "\n",
    "cmap = sns.diverging_palette(150, 275, as_cmap=True)\n",
    "sns.heatmap(df[df.columns[121:186]].join(df.saleprice).corr()[['saleprice']], annot=True, linewidths=.4, fmt=\".1f\", cmap=cmap, ax=ax);\n",
    "#sns.set(font_scale=4)\n",
    "#plt.savefig(\"heatmap_fe_3.png\");\n",
    "\n",
    "#created at a correlation heatmap of my new features in relation to sale price, looking at the next 65 features"
   ]
  },
  {
   "cell_type": "code",
   "execution_count": 62,
   "metadata": {},
   "outputs": [
    {
     "data": {
      "image/png": "[encoded data removed]",
      "text/plain": [
       "<Figure size 144x1080 with 2 Axes>"
      ]
     },
     "metadata": {},
     "output_type": "display_data"
    }
   ],
   "source": [
    "fig, ax = plt.subplots(figsize = (2, 15))\n",
    "\n",
    "cmap = sns.diverging_palette(150, 275, as_cmap=True)\n",
    "sns.heatmap(df[df.columns[186:]].join(df.saleprice).corr()[['saleprice']], annot=True, linewidths=.4, fmt=\".1f\", cmap=cmap, ax=ax);\n",
    "#sns.set(font_scale=4)\n",
    "\n",
    "#plt.savefig(\"heatmap_fe_4.png\");\n",
    "\n",
    "#created at a correlation heatmap of my new features in relation to sale price, looking at the last 17 features"
   ]
  },
  {
   "cell_type": "markdown",
   "metadata": {},
   "source": [
    "<center> \n",
    "    <h1> MODELING </h1> \n",
    "</center>"
   ]
  },
  {
   "cell_type": "code",
   "execution_count": 63,
   "metadata": {},
   "outputs": [],
   "source": [
    "numerical_columns = df._get_numeric_data().columns\n",
    "features = [col for col in numerical_columns if col != 'saleprice']\n",
    "X = df[features]\n",
    "y = df.saleprice\n",
    "\n",
    "# created my X and y variables"
   ]
  },
  {
   "cell_type": "code",
   "execution_count": 64,
   "metadata": {},
   "outputs": [],
   "source": [
    "p = PolynomialFeatures()\n",
    "\n",
    "#instantiated Polynomial Features and set it equal to p"
   ]
  },
  {
   "cell_type": "code",
   "execution_count": 65,
   "metadata": {},
   "outputs": [],
   "source": [
    "features_poly = p.fit_transform(df[features])\n",
    "\n",
    "#fitting and transforming my features and setting them equal to a variable, features_poly"
   ]
  },
  {
   "cell_type": "code",
   "execution_count": 66,
   "metadata": {},
   "outputs": [],
   "source": [
    "poly_df = pd.DataFrame(features_poly, columns=p.get_feature_names())\n",
    "\n",
    "#creating a data frame of my fit/transformed features"
   ]
  },
  {
   "cell_type": "code",
   "execution_count": 67,
   "metadata": {},
   "outputs": [],
   "source": [
    "numerical_columns_2 = df_2._get_numeric_data().columns\n",
    "features_2 = [col for col in numerical_columns_2 if col != 'saleprice']\n",
    "\n",
    "#creating features for my test data"
   ]
  },
  {
   "cell_type": "code",
   "execution_count": 68,
   "metadata": {},
   "outputs": [],
   "source": [
    "features_poly_df_2 = p.transform(df_2[features_2])\n",
    "\n",
    "#transforming my features and setting them equal to a variable, features_poly_df_2"
   ]
  },
  {
   "cell_type": "code",
   "execution_count": 73,
   "metadata": {},
   "outputs": [],
   "source": [
    "poly_df_2 = pd.DataFrame(features_poly_df_2, columns=p.get_feature_names())\n",
    "\n",
    "#creating a data frame of my transformed features"
   ]
  },
  {
   "cell_type": "code",
   "execution_count": 74,
   "metadata": {},
   "outputs": [],
   "source": [
    "X_train, X_test, y_train, y_test = train_test_split(poly_df, df.saleprice, random_state=28)\n",
    "\n",
    "#instantiating train test split while creating my X and y train and test variables"
   ]
  },
  {
   "cell_type": "code",
   "execution_count": 75,
   "metadata": {},
   "outputs": [],
   "source": [
    "ss = StandardScaler()\n",
    "ss.fit(X_train)\n",
    "X_train_sc = ss.transform(X_train)\n",
    "X_test_sc = ss.transform(X_test)\n",
    "\n",
    "#instantiating the standard scaler and setting it equal to ss\n",
    "#scaling my Xs"
   ]
  },
  {
   "cell_type": "code",
   "execution_count": 76,
   "metadata": {},
   "outputs": [],
   "source": [
    "scaled_test_data = ss.transform(poly_df_2)\n",
    "\n",
    "#scaling my test data and setting it equal to a variable, scaled_test_data"
   ]
  },
  {
   "cell_type": "code",
   "execution_count": 77,
   "metadata": {},
   "outputs": [],
   "source": [
    "y_train_log = np.log(y_train)\n",
    "y_test_log = np.log(y_test)\n",
    "\n",
    "#taking the log of my ys"
   ]
  },
  {
   "cell_type": "code",
   "execution_count": 78,
   "metadata": {},
   "outputs": [
    {
     "name": "stdout",
     "output_type": "stream",
     "text": [
      "(1538, 20706)\n",
      "(513, 20706)\n"
     ]
    }
   ],
   "source": [
    "print(X_train.shape)\n",
    "print(X_test.shape)\n",
    "\n",
    "#printing the shape of my Xs"
   ]
  },
  {
   "cell_type": "code",
   "execution_count": 79,
   "metadata": {},
   "outputs": [],
   "source": [
    "lr = LinearRegression()\n",
    "lasso = LassoCV()\n",
    "ridge = RidgeCV()\n",
    "\n",
    "#instantiating 3 models"
   ]
  },
  {
   "cell_type": "code",
   "execution_count": 80,
   "metadata": {},
   "outputs": [
    {
     "data": {
      "text/plain": [
       "LinearRegression(copy_X=True, fit_intercept=True, n_jobs=None,\n",
       "         normalize=False)"
      ]
     },
     "execution_count": 80,
     "metadata": {},
     "output_type": "execute_result"
    }
   ],
   "source": [
    "lr.fit(X_train_sc, y_train_log)\n",
    "\n",
    "#fitting my training data to the linear regression model"
   ]
  },
  {
   "cell_type": "code",
   "execution_count": 81,
   "metadata": {},
   "outputs": [
    {
     "data": {
      "text/plain": [
       "1.0"
      ]
     },
     "execution_count": 81,
     "metadata": {},
     "output_type": "execute_result"
    }
   ],
   "source": [
    "lr.score(X_train_sc, y_train_log)\n",
    "\n",
    "#scoring my training data"
   ]
  },
  {
   "cell_type": "code",
   "execution_count": 82,
   "metadata": {},
   "outputs": [
    {
     "data": {
      "text/plain": [
       "-324151780.462544"
      ]
     },
     "execution_count": 82,
     "metadata": {},
     "output_type": "execute_result"
    }
   ],
   "source": [
    "lr.score(X_test_sc, y_test_log)\n",
    "\n",
    "#scoring my testing data"
   ]
  },
  {
   "cell_type": "code",
   "execution_count": 83,
   "metadata": {},
   "outputs": [
    {
     "data": {
      "text/plain": [
       "RidgeCV(alphas=array([ 0.1,  1. , 10. ]), cv=None, fit_intercept=True,\n",
       "    gcv_mode=None, normalize=False, scoring=None, store_cv_values=False)"
      ]
     },
     "execution_count": 83,
     "metadata": {},
     "output_type": "execute_result"
    }
   ],
   "source": [
    "ridge.fit(X_train_sc, y_train_log)\n",
    "\n",
    "#fitting my training data to the ridge model"
   ]
  },
  {
   "cell_type": "code",
   "execution_count": 84,
   "metadata": {},
   "outputs": [
    {
     "data": {
      "text/plain": [
       "0.999760746390101"
      ]
     },
     "execution_count": 84,
     "metadata": {},
     "output_type": "execute_result"
    }
   ],
   "source": [
    "ridge.score(X_train_sc, y_train_log)\n",
    "\n",
    "#scoring my training data"
   ]
  },
  {
   "cell_type": "code",
   "execution_count": 85,
   "metadata": {},
   "outputs": [
    {
     "data": {
      "text/plain": [
       "0.7903377471339575"
      ]
     },
     "execution_count": 85,
     "metadata": {},
     "output_type": "execute_result"
    }
   ],
   "source": [
    "ridge.score(X_test_sc, y_test_log)\n",
    "\n",
    "#scoring my testing data"
   ]
  },
  {
   "cell_type": "code",
   "execution_count": 86,
   "metadata": {},
   "outputs": [
    {
     "data": {
      "text/plain": [
       "LassoCV(alphas=None, copy_X=True, cv='warn', eps=0.001, fit_intercept=True,\n",
       "    max_iter=1000, n_alphas=100, n_jobs=None, normalize=False,\n",
       "    positive=False, precompute='auto', random_state=None,\n",
       "    selection='cyclic', tol=0.0001, verbose=False)"
      ]
     },
     "execution_count": 86,
     "metadata": {},
     "output_type": "execute_result"
    }
   ],
   "source": [
    "lasso.fit(X_train_sc, y_train_log)\n",
    "\n",
    "#fitting my training data to the lasso model"
   ]
  },
  {
   "cell_type": "code",
   "execution_count": 87,
   "metadata": {},
   "outputs": [
    {
     "data": {
      "text/plain": [
       "0.9409307241774675"
      ]
     },
     "execution_count": 87,
     "metadata": {},
     "output_type": "execute_result"
    }
   ],
   "source": [
    "lasso.score(X_train_sc, y_train_log)\n",
    "\n",
    "#scoring my training data"
   ]
  },
  {
   "cell_type": "code",
   "execution_count": 88,
   "metadata": {},
   "outputs": [
    {
     "data": {
      "text/plain": [
       "0.8624788310654063"
      ]
     },
     "execution_count": 88,
     "metadata": {},
     "output_type": "execute_result"
    }
   ],
   "source": [
    "lasso.score(X_test_sc, y_test_log)\n",
    "\n",
    "#scoring my testing data"
   ]
  },
  {
   "cell_type": "code",
   "execution_count": 100,
   "metadata": {},
   "outputs": [],
   "source": [
    "y_pred = lasso.predict(scaled_test_data)\n",
    "\n",
    "#creating a variable, y_pred, and setting it equal to the lasso prediction of my scaled test data"
   ]
  },
  {
   "cell_type": "code",
   "execution_count": 90,
   "metadata": {},
   "outputs": [],
   "source": [
    "y_pred = np.exp(y_pred)\n",
    "y_pred_2 = np.exp(y_pred)\n",
    "\n",
    "#reversing the log transform I did earlier"
   ]
  },
  {
   "cell_type": "code",
   "execution_count": 91,
   "metadata": {},
   "outputs": [
    {
     "data": {
      "image/png": "[encoded data removed]",
      "text/plain": [
       "<Figure size 792x576 with 1 Axes>"
      ]
     },
     "metadata": {},
     "output_type": "display_data"
    }
   ],
   "source": [
    "fig, ax = plt.subplots(figsize = (11, 8))\n",
    "sns.distplot(np.exp(df.saleprice), kde=False, color='#A15EDB', bins=50, label='y')\n",
    "sns.distplot(y_pred_2, kde=False, color='#69547C', bins=50, label='yhat')\n",
    "\n",
    "plt.xlabel('Sale Price', fontsize=19, labelpad=11)\n",
    "plt.xticks(fontsize=14)\n",
    "plt.ylabel('Count', fontsize=19, labelpad=11)\n",
    "plt.yticks(fontsize=14)\n",
    "plt.legend(loc='upper right');\n",
    "\n",
    "\n",
    "#plt.savefig(\"y_vs_yhat.png\");\n",
    "\n",
    "#looking at the distribution of my target variable versus my predictions"
   ]
  },
  {
   "cell_type": "code",
   "execution_count": 92,
   "metadata": {},
   "outputs": [],
   "source": [
    "my_ids = df_2['id']\n",
    "\n",
    "#creating a variable, my_ids, from my test data"
   ]
  },
  {
   "cell_type": "code",
   "execution_count": 93,
   "metadata": {},
   "outputs": [],
   "source": [
    "pred_df = pd.DataFrame()\n",
    "\n",
    "#creating an empty data frame to house my ids and predictions"
   ]
  },
  {
   "cell_type": "code",
   "execution_count": 94,
   "metadata": {},
   "outputs": [],
   "source": [
    "pred_df['id'] = my_ids\n",
    "\n",
    "#storing my ids into my data frame"
   ]
  },
  {
   "cell_type": "code",
   "execution_count": 95,
   "metadata": {},
   "outputs": [],
   "source": [
    "pred_df['saleprice'] = y_pred_2\n",
    "\n",
    "#storing my predicted sale prices into my data frame"
   ]
  },
  {
   "cell_type": "code",
   "execution_count": 96,
   "metadata": {},
   "outputs": [],
   "source": [
    "pred_df.set_index('id', inplace=True)\n",
    "\n",
    "#setting the index of my data frame to my ids"
   ]
  },
  {
   "cell_type": "code",
   "execution_count": 97,
   "metadata": {},
   "outputs": [],
   "source": [
    "pred_df.to_csv('./datasets/britt_final_submission.csv')\n",
    "\n",
    "#exporting my data frame of predictions to a csv named, \"britt_final_submission.csv\""
   ]
  }
 ],
 "metadata": {
  "kernelspec": {
   "display_name": "Python 3",
   "language": "python",
   "name": "python3"
  },
  "language_info": {
   "codemirror_mode": {
    "name": "ipython",
    "version": 3
   },
   "file_extension": ".py",
   "mimetype": "text/x-python",
   "name": "python",
   "nbconvert_exporter": "python",
   "pygments_lexer": "ipython3",
   "version": "3.6.5"
  }
 },
 "nbformat": 4,
 "nbformat_minor": 2
}
